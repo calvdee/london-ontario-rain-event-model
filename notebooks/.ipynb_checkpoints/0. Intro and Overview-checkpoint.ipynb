{
 "cells": [
  {
   "cell_type": "markdown",
   "metadata": {},
   "source": [
    "# The LondON Precipitation Project\n",
    "<hr />\n",
    "<img src =\"../images/cumulonimbus.jpg\" style=\"height: 400px;\" />\n",
    "\n",
    "## Project Goals and Overview\n",
    "### Goals\n",
    "The primary goal of this analysis is to quantify and describe how observed rainfall in London Ontario, Canada, this year (2017), compares to the previous seven years (2010-2016) with respect to both the quantity (_how much_) and frequency (_how often_) of rain.  It is clear that London and other parts of Ontario [[1]()], [[2]](), [[3]()] have experienced unusual rainfall in 2017 compared to previous years but there are no sources that describe by how much - either on average or in total.  It's a trend that is [likely not stopping for a while](http://www.cbc.ca/news/canada/prince-edward-island/pei-extreme-rainfall-event-hurricane-centre-1.4173461).\n",
    "\n",
    "Secondary goals are of the inferential kind and include include:\n",
    "\n",
    "  1. Measuring the effect size (strength of difference) of rain in 2017 compared to the previous seven years\n",
    "  2. Testing the hypothesis that the number of observed rain days within a given time period is not necessarily related to the total observed rainfall in the same period i.e. more rain does imply more rainy days and more rainy days does not imply more rain\n",
    "  3. Modelling the counting process of rainy days i.e. modelling the probability of observing one, two, three, up to seven rainy days in a seven day period (one week)\n",
    "  4. Developing a novel forecasting model that predicts the following weekly _count_ of expected rainy days in a future period\n",
    "\n",
    "While it is straightforward to retrieve _daily_ precipitation forecasts from sources such as [The Weather Network](https://www.theweathernetwork.com/ca/weather/ontario/london) or [AccuWeather](https://www.accuweather.com/en/ca/canada-weather), these sources do not offer probabilistic estimates of the number of expected rain days on a weekly basis which can be used to answer questions such as \"Is it raining more frequently on a weekly basis?\" or \"What is the probability that it will rain 5/7 days next week and how much can we expect that estimate to vary? What is the proability that it will rain as few as 2 days or as many as 7?\".  It is still  possible to estimate a weekly count by computing an expectation using existing probability of precipitation ([POP](https://en.wikipedia.org/wiki/Probability_of_precipitation)) forecasts and simple probability calculations.\n",
    "\n",
    "This analysis is structured as follows:\n",
    "\n",
    "### [Part 1]()\n",
    "This notebook; includes a description of the data, how it was retrieved, and transformations that are necessary for analysis and modelling.\n",
    "\n",
    "### [Part 2]()\n",
    "Briefly explores both temperature (weather) and precipitation data.  \n",
    "\n",
    "### [Part 3]() \n",
    "Explores precipitation and rainfall data in more detail, presenting summary statistics and visualizations that are relevant to year-over-year changes in rainfall with respect to both overall quantity and weekly frequency.  \n",
    "\n",
    "### [Part 4]() \n",
    "Presents:\n",
    "- Hypothesis testing (secondary goals \\#1 and \\#2)\n",
    "- Development of the counting process model for weekly rain days (secondary goal \\#3) \n",
    "  \n",
    "### [Part 5]() \n",
    "Includes the weekly rain day count forecasting model\n",
    "\n",
    "### Resources\n",
    "1. http://www.ottawasun.com/2017/07/12/environment-canada-calls-this-the-year-of-the-big-wet\n",
    "2. http://www.owensoundsuntimes.com/2017/07/12/great-weather-if-youre-a-duck\n",
    "3. http://www.cbc.ca/news/canada/kitchener-waterloo/grand-valley-grca-grand-river-conservation-authority-kitchener-storm-1.4174860"
   ]
  }
 ],
 "metadata": {
  "anaconda-cloud": {},
  "kernelspec": {
   "display_name": "Python 3",
   "language": "python",
   "name": "python3"
  },
  "language_info": {
   "codemirror_mode": {
    "name": "ipython",
    "version": 3
   },
   "file_extension": ".py",
   "mimetype": "text/x-python",
   "name": "python",
   "nbconvert_exporter": "python",
   "pygments_lexer": "ipython3",
   "version": "3.5.5"
  }
 },
 "nbformat": 4,
 "nbformat_minor": 2
}
