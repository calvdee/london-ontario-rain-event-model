{
 "cells": [
  {
   "cell_type": "markdown",
   "metadata": {
    "hide_input": false,
    "hide_output": false,
    "run_control": {
     "marked": false
    }
   },
   "source": [
    "# Process Overview and Data Preparation\n",
    "### Data Source Background\n",
    "Climate Canada provides access to historical weather data through its historical climate data app [1]. The data is produced by sensors installed at weather stations located at geographically dispersed locations accross Canada.\n",
    "\n",
    "> A **weather station** is a facility, either on land or sea, with instruments and equipment for measuring atmospheric conditions to provide information for weather forecasts and to study the weather and climate. [2]\n",
    "\n",
    "Data is available at monthly, daily, and hourly intervals on a per-weather station basis with data missing for some combinations of interval, station, and observation period e.g. monthly data for London weather stations. The availability for a particular time interval (e.g. for the month of December) varies accross stations; some stations are missing entire months of data. This should not pose a significant problem as we are not interested in station-level measurements but rather overall weather trends in London, Ontario. Data accross stations is aggregated so that the daily measurements from each station are averaged to produce a single measurement value (see [1.5](#1.5-Daily-Observation-Data)). Our hope is that when data is missing from one station, it is generally available from another.\n",
    "\n",
    "The datasets for observational periods (monthly, daily, hourly) provide different sets of variables. Daily weather data (available through the Climate Canada website by year/month) contains both precipitation and weather data and is the most suitable level of granularity for this analysis so it's the level of granularity that will be used here.\n",
    "\n",
    "\n",
    "### Retrieving Weather Data\n",
    "Historical weather data produced by weather stations can be obtained through Climate Canada's web app which accepts queries for station names, province, or proximity as shown below.\n",
    "\n",
    "<img src =\"images/station_search.png\" style=\"height: 400px;\" />\n",
    "\n",
    "After selecting a station, data can be requested at hourly, daily, or monthly intervals.\n",
    "\n",
    "<img src =\"images/station_result.png\" style=\"height: 400px;\" />\n",
    "\n",
    "This analysis will focus on data from weather stations deployed in London Ontario, Canada so the search term used to find relevant stations and the associated data included only the keyword \"London\".  \n",
    "\n",
    "After using the Climate Canada web app to identify stations in London Ontario, only those with monthly data (data for every day of the month) available for at least five years were considered for the analysis. The London CS, London Airport, and London A stations met this critera and monthly data for the stations were retrieved from Climate Canada's web application using a Python program built using the web scraping framework [4].  The program automates the data retrieval process by generating search requests for station data for the stations of interest for every month from January 1, 2010 to February 10, 2019 and uses XPath [5] to extract data from HTML tables, the structure of which is shown below.  \n",
    "\n",
    "<img src =\"images/station_report.png\" style=\"height: 400px;\" />\n",
    "\n",
    "All of the data is outputted to a CSV file where each row represents a day of observed data from each one of the stations. Code for the web scraper can be found in the project's GitHub repository [6].  The code can be cloned from GitHub and the CSV can be populated with data upto today's date by running the following at the command line:\n",
    "\n",
    "```\n",
    "cd ../webcrawler\n",
    "scrapy crawl monthly_weather_spider\n",
    "\n",
    "```"
   ]
  },
  {
   "cell_type": "markdown",
   "metadata": {
    "hide_input": false,
    "hide_output": false,
    "run_control": {
     "marked": false
    }
   },
   "source": [
    "## Data Prep"
   ]
  },
  {
   "cell_type": "code",
   "execution_count": 1,
   "metadata": {
    "hide_input": false,
    "hide_output": false,
    "locked": false,
    "run_control": {
     "marked": true
    }
   },
   "outputs": [],
   "source": [
    "import pandas as pd\n",
    "# import missingno as msno\n",
    "import seaborn as sns\n",
    "import matplotlib.pyplot as plt\n",
    "import numpy as np\n",
    "%matplotlib inline"
   ]
  },
  {
   "cell_type": "code",
   "execution_count": 2,
   "metadata": {
    "hide_input": false,
    "hide_output": false,
    "locked": false,
    "run_control": {
     "marked": false
    }
   },
   "outputs": [],
   "source": [
    "# Load daily weather data produced by web scraper\n",
    "dwd = pd.read_csv('../data/raw/scrapy-weather-data.csv', parse_dates=['date'])"
   ]
  },
  {
   "cell_type": "markdown",
   "metadata": {},
   "source": [
    "The list of variables included in the dataset and their original names / descriptions [3]."
   ]
  },
  {
   "cell_type": "code",
   "execution_count": 3,
   "metadata": {},
   "outputs": [
    {
     "data": {
      "text/html": [
       "<div>\n",
       "<style scoped>\n",
       "    .dataframe tbody tr th:only-of-type {\n",
       "        vertical-align: middle;\n",
       "    }\n",
       "\n",
       "    .dataframe tbody tr th {\n",
       "        vertical-align: top;\n",
       "    }\n",
       "\n",
       "    .dataframe thead th {\n",
       "        text-align: right;\n",
       "    }\n",
       "</style>\n",
       "<table border=\"1\" class=\"dataframe\">\n",
       "  <thead>\n",
       "    <tr style=\"text-align: right;\">\n",
       "      <th></th>\n",
       "      <th>Variable Name</th>\n",
       "      <th>Official Variable Name</th>\n",
       "      <th>Official Variable Description</th>\n",
       "    </tr>\n",
       "  </thead>\n",
       "  <tbody>\n",
       "    <tr>\n",
       "      <th>0</th>\n",
       "      <td>station</td>\n",
       "      <td>station name</td>\n",
       "      <td>The station name is the official name of any meteorological station in the National Climate Archive as administered by the Meteorological Service of Canada.</td>\n",
       "    </tr>\n",
       "    <tr>\n",
       "      <th>1</th>\n",
       "      <td>date</td>\n",
       "      <td>NaN</td>\n",
       "      <td>The date of the observation</td>\n",
       "    </tr>\n",
       "    <tr>\n",
       "      <th>2</th>\n",
       "      <td>maxTemp</td>\n",
       "      <td>maximum temperature (°C)</td>\n",
       "      <td>The highest temperature in degrees Celsius (°C) observed at a location for a specified time interval.</td>\n",
       "    </tr>\n",
       "    <tr>\n",
       "      <th>3</th>\n",
       "      <td>minTemp</td>\n",
       "      <td>minimum temperature (°C)</td>\n",
       "      <td>The lowest temperature in degrees Celsius (°C) observed at a location for a specified time interval.</td>\n",
       "    </tr>\n",
       "    <tr>\n",
       "      <th>4</th>\n",
       "      <td>meanTemp</td>\n",
       "      <td>mean temperature (°C)</td>\n",
       "      <td>The mean temperature in degrees Celsius (°C) is defined as the average of the maximum and minimum temperature at a location for a specified time interval.</td>\n",
       "    </tr>\n",
       "    <tr>\n",
       "      <th>5</th>\n",
       "      <td>heatDegDays</td>\n",
       "      <td>heating degree-days</td>\n",
       "      <td>Heating degree-days for a given day are the number of degrees Celsius that the mean temperature is below 18 °C. If the temperature is equal to or greater than 18 °C, then the number will be zero. For example, a day with a mean temperature of 15.5 °C has 2.5 heating degree-days; a day with a mean temperature of 20.5 °C has zero heating degree-days. Heating degree-days are used primarily to estimate the heating requirements of buildings.</td>\n",
       "    </tr>\n",
       "    <tr>\n",
       "      <th>6</th>\n",
       "      <td>coolDegDays</td>\n",
       "      <td>cooling degree-days</td>\n",
       "      <td>Cooling degree-days for a given day are the number of degrees Celsius that the mean temperature is above 18 °C. If the temperature is equal to or less than 18 °C, then the number will be zero. For example, a day with a mean temperature of 20.5 °C has 2.5 cooling degree-days; a day with a mean temperature of 15.5 °C has zero cooling degree-days. Cooling degree-days are used primarily to estimate the air-conditioning requirements of buildings.</td>\n",
       "    </tr>\n",
       "    <tr>\n",
       "      <th>7</th>\n",
       "      <td>totalRainMM</td>\n",
       "      <td>total rain (mm)</td>\n",
       "      <td>The total rainfall, or amount of all liquid precipitation in millimetres (mm) such as rain, drizzle, freezing rain, and hail, observed at the location during a specified time interval.</td>\n",
       "    </tr>\n",
       "    <tr>\n",
       "      <th>8</th>\n",
       "      <td>totalSnowCM</td>\n",
       "      <td>total snow (cm)</td>\n",
       "      <td>The total snowfall, or amount of frozen (solid) precipitation in centimetres (cm), such as snow and ice pellets, observed at the location during a specified time interval.</td>\n",
       "    </tr>\n",
       "    <tr>\n",
       "      <th>9</th>\n",
       "      <td>totalPrecipMM</td>\n",
       "      <td>total precipitation (mm)</td>\n",
       "      <td>The sum of the total rainfall and the water equivalent of the total snowfall in millimetres (mm), observed at the location during a specified time interval.</td>\n",
       "    </tr>\n",
       "    <tr>\n",
       "      <th>10</th>\n",
       "      <td>snowOnGroundCM</td>\n",
       "      <td>snow on the ground (cm)</td>\n",
       "      <td>The depth of snow in centimetres (cm) on the ground. The total depth of snow on the ground at the time of the observation is determined in whole centimetres by making a series of measurements and taking the average.</td>\n",
       "    </tr>\n",
       "    <tr>\n",
       "      <th>11</th>\n",
       "      <td>dirOfMaxGust10sDEG</td>\n",
       "      <td>direction of maximum gust (10's deg/tens of degrees)</td>\n",
       "      <td>The direction of the maximum gust (true or geographic, not magnetic) from which the wind blows. Expressed in tens of degrees (10's deg), 9 means 90 degrees true or an east wind, and 36 means 360 degrees true or a wind blowing from the geographic north pole. This value is only reported if the maximum gust speed for the day exceeds 29 km/h.</td>\n",
       "    </tr>\n",
       "    <tr>\n",
       "      <th>12</th>\n",
       "      <td>spdOfMaxGustKMH</td>\n",
       "      <td>speed of maximum gust (km/h)</td>\n",
       "      <td>The speed in kilometres per hour (km/h) of the maximum wind gust during the day. The gust is the maximum or peak instantaneous or single reading from the anemometer (the instrument used to observe wind speed) during the day. The duration of a gust typically corresponds to an elapsed time of 3 to 5 seconds.</td>\n",
       "    </tr>\n",
       "  </tbody>\n",
       "</table>\n",
       "</div>"
      ],
      "text/plain": [
       "         Variable Name                                Official Variable Name  \\\n",
       "0   station             station name                                           \n",
       "1   date                NaN                                                    \n",
       "2   maxTemp             maximum temperature (°C)                               \n",
       "3   minTemp             minimum temperature (°C)                               \n",
       "4   meanTemp            mean temperature (°C)                                  \n",
       "5   heatDegDays         heating degree-days                                    \n",
       "6   coolDegDays         cooling degree-days                                    \n",
       "7   totalRainMM         total rain (mm)                                        \n",
       "8   totalSnowCM         total snow (cm)                                        \n",
       "9   totalPrecipMM       total precipitation (mm)                               \n",
       "10  snowOnGroundCM      snow on the ground (cm)                                \n",
       "11  dirOfMaxGust10sDEG  direction of maximum gust (10's deg/tens of degrees)   \n",
       "12  spdOfMaxGustKMH     speed of maximum gust (km/h)                           \n",
       "\n",
       "                                                                                                                                                                                                                                                                                                                                                                                                                                    Official Variable Description  \n",
       "0   The station name is the official name of any meteorological station in the National Climate Archive as administered by the Meteorological Service of Canada.                                                                                                                                                                                                                                                                                                   \n",
       "1   The date of the observation                                                                                                                                                                                                                                                                                                                                                                                                                                    \n",
       "2   The highest temperature in degrees Celsius (°C) observed at a location for a specified time interval.                                                                                                                                                                                                                                                                                                                                                          \n",
       "3   The lowest temperature in degrees Celsius (°C) observed at a location for a specified time interval.                                                                                                                                                                                                                                                                                                                                                           \n",
       "4   The mean temperature in degrees Celsius (°C) is defined as the average of the maximum and minimum temperature at a location for a specified time interval.                                                                                                                                                                                                                                                                                                     \n",
       "5   Heating degree-days for a given day are the number of degrees Celsius that the mean temperature is below 18 °C. If the temperature is equal to or greater than 18 °C, then the number will be zero. For example, a day with a mean temperature of 15.5 °C has 2.5 heating degree-days; a day with a mean temperature of 20.5 °C has zero heating degree-days. Heating degree-days are used primarily to estimate the heating requirements of buildings.        \n",
       "6   Cooling degree-days for a given day are the number of degrees Celsius that the mean temperature is above 18 °C. If the temperature is equal to or less than 18 °C, then the number will be zero. For example, a day with a mean temperature of 20.5 °C has 2.5 cooling degree-days; a day with a mean temperature of 15.5 °C has zero cooling degree-days. Cooling degree-days are used primarily to estimate the air-conditioning requirements of buildings.  \n",
       "7   The total rainfall, or amount of all liquid precipitation in millimetres (mm) such as rain, drizzle, freezing rain, and hail, observed at the location during a specified time interval.                                                                                                                                                                                                                                                                       \n",
       "8   The total snowfall, or amount of frozen (solid) precipitation in centimetres (cm), such as snow and ice pellets, observed at the location during a specified time interval.                                                                                                                                                                                                                                                                                    \n",
       "9   The sum of the total rainfall and the water equivalent of the total snowfall in millimetres (mm), observed at the location during a specified time interval.                                                                                                                                                                                                                                                                                                   \n",
       "10  The depth of snow in centimetres (cm) on the ground. The total depth of snow on the ground at the time of the observation is determined in whole centimetres by making a series of measurements and taking the average.                                                                                                                                                                                                                                        \n",
       "11  The direction of the maximum gust (true or geographic, not magnetic) from which the wind blows. Expressed in tens of degrees (10's deg), 9 means 90 degrees true or an east wind, and 36 means 360 degrees true or a wind blowing from the geographic north pole. This value is only reported if the maximum gust speed for the day exceeds 29 km/h.                                                                                                           \n",
       "12  The speed in kilometres per hour (km/h) of the maximum wind gust during the day. The gust is the maximum or peak instantaneous or single reading from the anemometer (the instrument used to observe wind speed) during the day. The duration of a gust typically corresponds to an elapsed time of 3 to 5 seconds.                                                                                                                                            "
      ]
     },
     "execution_count": 3,
     "metadata": {},
     "output_type": "execute_result"
    }
   ],
   "source": [
    "pd.set_option('display.max_colwidth', -1)\n",
    "pd.read_csv('../data/raw/variable_descriptions.csv', sep='|')"
   ]
  },
  {
   "cell_type": "markdown",
   "metadata": {
    "hide_input": false,
    "hide_output": false,
    "run_control": {
     "marked": false
    }
   },
   "source": [
    "Look at the first few observations"
   ]
  },
  {
   "cell_type": "code",
   "execution_count": 4,
   "metadata": {
    "hide_input": false,
    "hide_output": false,
    "locked": false,
    "run_control": {
     "marked": false
    }
   },
   "outputs": [
    {
     "data": {
      "text/html": [
       "<div>\n",
       "<style scoped>\n",
       "    .dataframe tbody tr th:only-of-type {\n",
       "        vertical-align: middle;\n",
       "    }\n",
       "\n",
       "    .dataframe tbody tr th {\n",
       "        vertical-align: top;\n",
       "    }\n",
       "\n",
       "    .dataframe thead th {\n",
       "        text-align: right;\n",
       "    }\n",
       "</style>\n",
       "<table border=\"1\" class=\"dataframe\">\n",
       "  <thead>\n",
       "    <tr style=\"text-align: right;\">\n",
       "      <th></th>\n",
       "      <th>station</th>\n",
       "      <th>date</th>\n",
       "      <th>maxTemp</th>\n",
       "      <th>minTemp</th>\n",
       "      <th>meanTemp</th>\n",
       "      <th>heatDegDays</th>\n",
       "      <th>coolDegDays</th>\n",
       "      <th>totalRainMM</th>\n",
       "      <th>totalSnowCM</th>\n",
       "      <th>totalPrecipMM</th>\n",
       "      <th>snowOnGroundCM</th>\n",
       "      <th>dirOfMaxGust10sDEG</th>\n",
       "      <th>spdOfMaxGustKMH</th>\n",
       "    </tr>\n",
       "  </thead>\n",
       "  <tbody>\n",
       "    <tr>\n",
       "      <th>0</th>\n",
       "      <td>London CS</td>\n",
       "      <td>2010-06-01</td>\n",
       "      <td>24.0</td>\n",
       "      <td>14.7</td>\n",
       "      <td>19.4</td>\n",
       "      <td>0.0</td>\n",
       "      <td>1.4</td>\n",
       "      <td>NaN</td>\n",
       "      <td>NaN</td>\n",
       "      <td>13.8</td>\n",
       "      <td></td>\n",
       "      <td>NaN</td>\n",
       "      <td>NaN</td>\n",
       "    </tr>\n",
       "    <tr>\n",
       "      <th>1</th>\n",
       "      <td>London CS</td>\n",
       "      <td>2010-06-02</td>\n",
       "      <td>22.9</td>\n",
       "      <td>13.6</td>\n",
       "      <td>18.3</td>\n",
       "      <td>0.0</td>\n",
       "      <td>0.3</td>\n",
       "      <td>NaN</td>\n",
       "      <td>NaN</td>\n",
       "      <td>6.8</td>\n",
       "      <td></td>\n",
       "      <td>NaN</td>\n",
       "      <td>NaN</td>\n",
       "    </tr>\n",
       "    <tr>\n",
       "      <th>2</th>\n",
       "      <td>London CS</td>\n",
       "      <td>2010-06-03</td>\n",
       "      <td>22.0</td>\n",
       "      <td>12.7</td>\n",
       "      <td>17.4</td>\n",
       "      <td>0.6</td>\n",
       "      <td>0.0</td>\n",
       "      <td>NaN</td>\n",
       "      <td>NaN</td>\n",
       "      <td>16.5</td>\n",
       "      <td></td>\n",
       "      <td>NaN</td>\n",
       "      <td>NaN</td>\n",
       "    </tr>\n",
       "    <tr>\n",
       "      <th>3</th>\n",
       "      <td>London CS</td>\n",
       "      <td>2010-06-04</td>\n",
       "      <td>23.1</td>\n",
       "      <td>12.7</td>\n",
       "      <td>17.9</td>\n",
       "      <td>0.1</td>\n",
       "      <td>0.0</td>\n",
       "      <td>NaN</td>\n",
       "      <td>NaN</td>\n",
       "      <td>21.2</td>\n",
       "      <td></td>\n",
       "      <td>NaN</td>\n",
       "      <td>NaN</td>\n",
       "    </tr>\n",
       "    <tr>\n",
       "      <th>4</th>\n",
       "      <td>London CS</td>\n",
       "      <td>2010-06-05</td>\n",
       "      <td>25.1</td>\n",
       "      <td>14.7</td>\n",
       "      <td>19.9</td>\n",
       "      <td>0.0</td>\n",
       "      <td>1.9</td>\n",
       "      <td>NaN</td>\n",
       "      <td>NaN</td>\n",
       "      <td>7.4</td>\n",
       "      <td></td>\n",
       "      <td>NaN</td>\n",
       "      <td>NaN</td>\n",
       "    </tr>\n",
       "  </tbody>\n",
       "</table>\n",
       "</div>"
      ],
      "text/plain": [
       "     station       date maxTemp minTemp meanTemp heatDegDays coolDegDays  \\\n",
       "0  London CS 2010-06-01  24.0    14.7    19.4     0.0         1.4          \n",
       "1  London CS 2010-06-02  22.9    13.6    18.3     0.0         0.3          \n",
       "2  London CS 2010-06-03  22.0    12.7    17.4     0.6         0.0          \n",
       "3  London CS 2010-06-04  23.1    12.7    17.9     0.1         0.0          \n",
       "4  London CS 2010-06-05  25.1    14.7    19.9     0.0         1.9          \n",
       "\n",
       "  totalRainMM totalSnowCM totalPrecipMM snowOnGroundCM dirOfMaxGust10sDEG  \\\n",
       "0  NaN         NaN         13.8                         NaN                 \n",
       "1  NaN         NaN         6.8                          NaN                 \n",
       "2  NaN         NaN         16.5                         NaN                 \n",
       "3  NaN         NaN         21.2                         NaN                 \n",
       "4  NaN         NaN         7.4                          NaN                 \n",
       "\n",
       "  spdOfMaxGustKMH  \n",
       "0  NaN             \n",
       "1  NaN             \n",
       "2  NaN             \n",
       "3  NaN             \n",
       "4  NaN             "
      ]
     },
     "execution_count": 4,
     "metadata": {},
     "output_type": "execute_result"
    }
   ],
   "source": [
    "dwd.head()"
   ]
  },
  {
   "cell_type": "code",
   "execution_count": 5,
   "metadata": {},
   "outputs": [
    {
     "name": "stdout",
     "output_type": "stream",
     "text": [
      "2010-01-01 00:00:00 2019-04-30 00:00:00\n"
     ]
    }
   ],
   "source": [
    "print(dwd.date.min(), dwd.date.max())"
   ]
  },
  {
   "cell_type": "markdown",
   "metadata": {
    "hide_input": false,
    "hide_output": false,
    "run_control": {
     "marked": false
    }
   },
   "source": [
    "It's obvious that there's some missing data.  As observed while exploring data through the website, some measurements include an empty value while others include the value 'M'."
   ]
  },
  {
   "cell_type": "code",
   "execution_count": 6,
   "metadata": {
    "hide_input": false,
    "hide_output": false,
    "locked": false,
    "run_control": {
     "marked": false
    }
   },
   "outputs": [
    {
     "data": {
      "text/plain": [
       "(7535, 13)"
      ]
     },
     "execution_count": 6,
     "metadata": {},
     "output_type": "execute_result"
    }
   ],
   "source": [
    "dwd.shape"
   ]
  },
  {
   "cell_type": "markdown",
   "metadata": {
    "hide_input": false,
    "hide_output": false,
    "run_control": {
     "marked": false
    }
   },
   "source": [
    "6133 observatiions, 13 variables"
   ]
  },
  {
   "cell_type": "code",
   "execution_count": 7,
   "metadata": {
    "hide_input": false,
    "hide_output": false,
    "locked": false,
    "run_control": {
     "marked": false
    }
   },
   "outputs": [
    {
     "name": "stdout",
     "output_type": "stream",
     "text": [
      "<class 'pandas.core.frame.DataFrame'>\n",
      "RangeIndex: 7535 entries, 0 to 7534\n",
      "Data columns (total 13 columns):\n",
      "station               7535 non-null object\n",
      "date                  7535 non-null datetime64[ns]\n",
      "maxTemp               7501 non-null object\n",
      "minTemp               7515 non-null object\n",
      "meanTemp              7490 non-null object\n",
      "heatDegDays           7490 non-null object\n",
      "coolDegDays           7490 non-null object\n",
      "totalRainMM           1803 non-null object\n",
      "totalSnowCM           1356 non-null object\n",
      "totalPrecipMM         4701 non-null object\n",
      "snowOnGroundCM        7315 non-null object\n",
      "dirOfMaxGust10sDEG    3951 non-null object\n",
      "spdOfMaxGustKMH       3951 non-null object\n",
      "dtypes: datetime64[ns](1), object(12)\n",
      "memory usage: 765.4+ KB\n"
     ]
    }
   ],
   "source": [
    "dwd.info()"
   ]
  },
  {
   "cell_type": "code",
   "execution_count": 8,
   "metadata": {},
   "outputs": [
    {
     "name": "stdout",
     "output_type": "stream",
     "text": [
      "2010-01-01 00:00:00 to 2019-04-30 00:00:00\n"
     ]
    }
   ],
   "source": [
    "print(\"{} to {}\".format(dwd.date.min(), dwd.date.max()))"
   ]
  },
  {
   "cell_type": "markdown",
   "metadata": {
    "hide_input": false,
    "hide_output": false,
    "run_control": {
     "marked": false
    }
   },
   "source": [
    "Transform the columns to the appropriate data types"
   ]
  },
  {
   "cell_type": "code",
   "execution_count": 9,
   "metadata": {
    "hide_input": false,
    "hide_output": false,
    "locked": false,
    "run_control": {
     "marked": false
    }
   },
   "outputs": [],
   "source": [
    "# Discrete columns\n",
    "disc = ['station', 'date']"
   ]
  },
  {
   "cell_type": "code",
   "execution_count": 10,
   "metadata": {
    "hide_input": false,
    "hide_output": false,
    "locked": false,
    "run_control": {
     "marked": false
    }
   },
   "outputs": [],
   "source": [
    "# Continuous data with empty values replaced with `NaN` and '<31' with 31\n",
    "# i.e. the indicator function I\n",
    "data_cont = pd.DataFrame.replace(\n",
    "  pd.DataFrame(dwd[dwd.columns.drop(disc)]),\n",
    "  [\"\\xa0\", \"<31\"],\n",
    "  [\"NaN\", 31]).astype(float)\n",
    "data_disc = dwd[disc]"
   ]
  },
  {
   "cell_type": "markdown",
   "metadata": {
    "hide_input": false,
    "hide_output": false,
    "run_control": {
     "marked": false
    }
   },
   "source": [
    "Discrete"
   ]
  },
  {
   "cell_type": "code",
   "execution_count": 11,
   "metadata": {
    "hide_input": false,
    "hide_output": false,
    "locked": false,
    "run_control": {
     "marked": false
    }
   },
   "outputs": [
    {
     "data": {
      "text/html": [
       "<div>\n",
       "<style scoped>\n",
       "    .dataframe tbody tr th:only-of-type {\n",
       "        vertical-align: middle;\n",
       "    }\n",
       "\n",
       "    .dataframe tbody tr th {\n",
       "        vertical-align: top;\n",
       "    }\n",
       "\n",
       "    .dataframe thead th {\n",
       "        text-align: right;\n",
       "    }\n",
       "</style>\n",
       "<table border=\"1\" class=\"dataframe\">\n",
       "  <thead>\n",
       "    <tr style=\"text-align: right;\">\n",
       "      <th></th>\n",
       "    </tr>\n",
       "  </thead>\n",
       "  <tbody>\n",
       "    <tr>\n",
       "      <th>station</th>\n",
       "    </tr>\n",
       "    <tr>\n",
       "      <th>date</th>\n",
       "    </tr>\n",
       "  </tbody>\n",
       "</table>\n",
       "</div>"
      ],
      "text/plain": [
       "Empty DataFrame\n",
       "Columns: []\n",
       "Index: [station, date]"
      ]
     },
     "execution_count": 11,
     "metadata": {},
     "output_type": "execute_result"
    }
   ],
   "source": [
    "pd.DataFrame(index=disc)"
   ]
  },
  {
   "cell_type": "markdown",
   "metadata": {
    "hide_input": false,
    "hide_output": false,
    "run_control": {
     "marked": false
    }
   },
   "source": [
    "Continuous"
   ]
  },
  {
   "cell_type": "code",
   "execution_count": 12,
   "metadata": {
    "hide_input": false,
    "hide_output": false,
    "locked": false,
    "run_control": {
     "marked": false
    }
   },
   "outputs": [
    {
     "data": {
      "text/html": [
       "<div>\n",
       "<style scoped>\n",
       "    .dataframe tbody tr th:only-of-type {\n",
       "        vertical-align: middle;\n",
       "    }\n",
       "\n",
       "    .dataframe tbody tr th {\n",
       "        vertical-align: top;\n",
       "    }\n",
       "\n",
       "    .dataframe thead th {\n",
       "        text-align: right;\n",
       "    }\n",
       "</style>\n",
       "<table border=\"1\" class=\"dataframe\">\n",
       "  <thead>\n",
       "    <tr style=\"text-align: right;\">\n",
       "      <th></th>\n",
       "    </tr>\n",
       "  </thead>\n",
       "  <tbody>\n",
       "    <tr>\n",
       "      <th>maxTemp</th>\n",
       "    </tr>\n",
       "    <tr>\n",
       "      <th>minTemp</th>\n",
       "    </tr>\n",
       "    <tr>\n",
       "      <th>meanTemp</th>\n",
       "    </tr>\n",
       "    <tr>\n",
       "      <th>heatDegDays</th>\n",
       "    </tr>\n",
       "    <tr>\n",
       "      <th>coolDegDays</th>\n",
       "    </tr>\n",
       "    <tr>\n",
       "      <th>totalRainMM</th>\n",
       "    </tr>\n",
       "    <tr>\n",
       "      <th>totalSnowCM</th>\n",
       "    </tr>\n",
       "    <tr>\n",
       "      <th>totalPrecipMM</th>\n",
       "    </tr>\n",
       "    <tr>\n",
       "      <th>snowOnGroundCM</th>\n",
       "    </tr>\n",
       "    <tr>\n",
       "      <th>dirOfMaxGust10sDEG</th>\n",
       "    </tr>\n",
       "    <tr>\n",
       "      <th>spdOfMaxGustKMH</th>\n",
       "    </tr>\n",
       "  </tbody>\n",
       "</table>\n",
       "</div>"
      ],
      "text/plain": [
       "Empty DataFrame\n",
       "Columns: []\n",
       "Index: [maxTemp, minTemp, meanTemp, heatDegDays, coolDegDays, totalRainMM, totalSnowCM, totalPrecipMM, snowOnGroundCM, dirOfMaxGust10sDEG, spdOfMaxGustKMH]"
      ]
     },
     "execution_count": 12,
     "metadata": {},
     "output_type": "execute_result"
    }
   ],
   "source": [
    "pd.DataFrame(index=data_cont.columns)"
   ]
  },
  {
   "cell_type": "markdown",
   "metadata": {
    "hide_input": false,
    "hide_output": false,
    "run_control": {
     "marked": false
    }
   },
   "source": [
    "Final dataset"
   ]
  },
  {
   "cell_type": "code",
   "execution_count": 13,
   "metadata": {
    "hide_input": false,
    "hide_output": false,
    "locked": false,
    "run_control": {
     "marked": false
    }
   },
   "outputs": [],
   "source": [
    "df = pd.concat([data_cont, data_disc], axis=1)"
   ]
  },
  {
   "cell_type": "markdown",
   "metadata": {
    "hide_input": false,
    "hide_output": false,
    "run_control": {
     "marked": false
    },
    "toc-hr-collapsed": false
   },
   "source": [
    "## Station Statistics"
   ]
  },
  {
   "cell_type": "markdown",
   "metadata": {
    "hide_input": false,
    "hide_output": false,
    "run_control": {
     "marked": false
    }
   },
   "source": [
    "### Aggregate Statistics"
   ]
  },
  {
   "cell_type": "code",
   "execution_count": 14,
   "metadata": {
    "hide_input": false,
    "hide_output": false,
    "locked": false,
    "run_control": {
     "marked": true
    }
   },
   "outputs": [
    {
     "data": {
      "text/html": [
       "<div>\n",
       "<style scoped>\n",
       "    .dataframe tbody tr th:only-of-type {\n",
       "        vertical-align: middle;\n",
       "    }\n",
       "\n",
       "    .dataframe tbody tr th {\n",
       "        vertical-align: top;\n",
       "    }\n",
       "\n",
       "    .dataframe thead th {\n",
       "        text-align: right;\n",
       "    }\n",
       "</style>\n",
       "<table border=\"1\" class=\"dataframe\">\n",
       "  <thead>\n",
       "    <tr style=\"text-align: right;\">\n",
       "      <th></th>\n",
       "      <th>count</th>\n",
       "      <th>mean</th>\n",
       "      <th>std</th>\n",
       "      <th>min</th>\n",
       "      <th>25%</th>\n",
       "      <th>50%</th>\n",
       "      <th>75%</th>\n",
       "      <th>max</th>\n",
       "    </tr>\n",
       "  </thead>\n",
       "  <tbody>\n",
       "    <tr>\n",
       "      <th>maxTemp</th>\n",
       "      <td>5974.0</td>\n",
       "      <td>13.033713</td>\n",
       "      <td>11.743469</td>\n",
       "      <td>-19.0</td>\n",
       "      <td>3.2</td>\n",
       "      <td>13.9</td>\n",
       "      <td>23.7</td>\n",
       "      <td>36.7</td>\n",
       "    </tr>\n",
       "    <tr>\n",
       "      <th>minTemp</th>\n",
       "      <td>5988.0</td>\n",
       "      <td>3.116049</td>\n",
       "      <td>10.226291</td>\n",
       "      <td>-30.5</td>\n",
       "      <td>-3.7</td>\n",
       "      <td>3.0</td>\n",
       "      <td>11.7</td>\n",
       "      <td>24.6</td>\n",
       "    </tr>\n",
       "    <tr>\n",
       "      <th>meanTemp</th>\n",
       "      <td>5963.0</td>\n",
       "      <td>8.084387</td>\n",
       "      <td>10.836894</td>\n",
       "      <td>-24.5</td>\n",
       "      <td>-0.3</td>\n",
       "      <td>8.2</td>\n",
       "      <td>17.7</td>\n",
       "      <td>30.7</td>\n",
       "    </tr>\n",
       "    <tr>\n",
       "      <th>heatDegDays</th>\n",
       "      <td>5963.0</td>\n",
       "      <td>10.721114</td>\n",
       "      <td>9.843113</td>\n",
       "      <td>0.0</td>\n",
       "      <td>0.3</td>\n",
       "      <td>9.8</td>\n",
       "      <td>18.3</td>\n",
       "      <td>42.5</td>\n",
       "    </tr>\n",
       "    <tr>\n",
       "      <th>coolDegDays</th>\n",
       "      <td>5963.0</td>\n",
       "      <td>0.805501</td>\n",
       "      <td>1.810190</td>\n",
       "      <td>0.0</td>\n",
       "      <td>0.0</td>\n",
       "      <td>0.0</td>\n",
       "      <td>0.0</td>\n",
       "      <td>12.7</td>\n",
       "    </tr>\n",
       "    <tr>\n",
       "      <th>totalRainMM</th>\n",
       "      <td>1267.0</td>\n",
       "      <td>1.597790</td>\n",
       "      <td>4.510125</td>\n",
       "      <td>0.0</td>\n",
       "      <td>0.0</td>\n",
       "      <td>0.0</td>\n",
       "      <td>0.2</td>\n",
       "      <td>39.3</td>\n",
       "    </tr>\n",
       "    <tr>\n",
       "      <th>totalSnowCM</th>\n",
       "      <td>1109.0</td>\n",
       "      <td>1.266366</td>\n",
       "      <td>3.077623</td>\n",
       "      <td>0.0</td>\n",
       "      <td>0.0</td>\n",
       "      <td>0.0</td>\n",
       "      <td>1.0</td>\n",
       "      <td>35.0</td>\n",
       "    </tr>\n",
       "    <tr>\n",
       "      <th>totalPrecipMM</th>\n",
       "      <td>4454.0</td>\n",
       "      <td>2.683767</td>\n",
       "      <td>5.878942</td>\n",
       "      <td>0.0</td>\n",
       "      <td>0.0</td>\n",
       "      <td>0.0</td>\n",
       "      <td>2.5</td>\n",
       "      <td>69.7</td>\n",
       "    </tr>\n",
       "    <tr>\n",
       "      <th>snowOnGroundCM</th>\n",
       "      <td>1785.0</td>\n",
       "      <td>7.521569</td>\n",
       "      <td>10.311609</td>\n",
       "      <td>0.0</td>\n",
       "      <td>0.0</td>\n",
       "      <td>3.0</td>\n",
       "      <td>11.0</td>\n",
       "      <td>59.0</td>\n",
       "    </tr>\n",
       "    <tr>\n",
       "      <th>dirOfMaxGust10sDEG</th>\n",
       "      <td>124.0</td>\n",
       "      <td>20.459677</td>\n",
       "      <td>10.283303</td>\n",
       "      <td>1.0</td>\n",
       "      <td>13.0</td>\n",
       "      <td>20.0</td>\n",
       "      <td>30.0</td>\n",
       "      <td>36.0</td>\n",
       "    </tr>\n",
       "    <tr>\n",
       "      <th>spdOfMaxGustKMH</th>\n",
       "      <td>2424.0</td>\n",
       "      <td>31.681931</td>\n",
       "      <td>3.763311</td>\n",
       "      <td>31.0</td>\n",
       "      <td>31.0</td>\n",
       "      <td>31.0</td>\n",
       "      <td>31.0</td>\n",
       "      <td>96.0</td>\n",
       "    </tr>\n",
       "  </tbody>\n",
       "</table>\n",
       "</div>"
      ],
      "text/plain": [
       "                     count       mean        std   min   25%   50%   75%   max\n",
       "maxTemp             5974.0  13.033713  11.743469 -19.0  3.2   13.9  23.7  36.7\n",
       "minTemp             5988.0  3.116049   10.226291 -30.5 -3.7   3.0   11.7  24.6\n",
       "meanTemp            5963.0  8.084387   10.836894 -24.5 -0.3   8.2   17.7  30.7\n",
       "heatDegDays         5963.0  10.721114  9.843113   0.0   0.3   9.8   18.3  42.5\n",
       "coolDegDays         5963.0  0.805501   1.810190   0.0   0.0   0.0   0.0   12.7\n",
       "totalRainMM         1267.0  1.597790   4.510125   0.0   0.0   0.0   0.2   39.3\n",
       "totalSnowCM         1109.0  1.266366   3.077623   0.0   0.0   0.0   1.0   35.0\n",
       "totalPrecipMM       4454.0  2.683767   5.878942   0.0   0.0   0.0   2.5   69.7\n",
       "snowOnGroundCM      1785.0  7.521569   10.311609  0.0   0.0   3.0   11.0  59.0\n",
       "dirOfMaxGust10sDEG  124.0   20.459677  10.283303  1.0   13.0  20.0  30.0  36.0\n",
       "spdOfMaxGustKMH     2424.0  31.681931  3.763311   31.0  31.0  31.0  31.0  96.0"
      ]
     },
     "execution_count": 14,
     "metadata": {},
     "output_type": "execute_result"
    }
   ],
   "source": [
    "s = df.describe().transpose()\n",
    "s"
   ]
  },
  {
   "cell_type": "markdown",
   "metadata": {
    "hide_input": false,
    "hide_output": false,
    "run_control": {
     "marked": false
    }
   },
   "source": [
    "* Highest observed temperature is 36.7°C\n",
    "* Minimum observed temperature is -30.5°C\n",
    "* Average observed temperature is 8.09°C\n",
    "* All variables except for temperature-related variables are strictly positive\n",
    "* Temperature varries more than precipitation\n",
    "* Few rain and snow observations"
   ]
  },
  {
   "cell_type": "markdown",
   "metadata": {
    "hide_input": false,
    "hide_output": false,
    "run_control": {
     "marked": false
    }
   },
   "source": [
    "How many observations are missing values?"
   ]
  },
  {
   "cell_type": "code",
   "execution_count": 15,
   "metadata": {
    "hide_input": false,
    "hide_output": false,
    "locked": false,
    "run_control": {
     "marked": false
    }
   },
   "outputs": [
    {
     "data": {
      "text/plain": [
       "maxTemp               1561\n",
       "minTemp               1547\n",
       "meanTemp              1572\n",
       "heatDegDays           1572\n",
       "coolDegDays           1572\n",
       "totalRainMM           6268\n",
       "totalSnowCM           6426\n",
       "totalPrecipMM         3081\n",
       "snowOnGroundCM        5750\n",
       "dirOfMaxGust10sDEG    7411\n",
       "spdOfMaxGustKMH       5111\n",
       "station               0   \n",
       "date                  0   \n",
       "dtype: int64"
      ]
     },
     "execution_count": 15,
     "metadata": {},
     "output_type": "execute_result"
    }
   ],
   "source": [
    "df.isnull().sum()"
   ]
  },
  {
   "cell_type": "code",
   "execution_count": 16,
   "metadata": {
    "hide_input": false,
    "hide_output": false,
    "locked": false,
    "run_control": {
     "marked": false
    }
   },
   "outputs": [
    {
     "data": {
      "text/plain": [
       "dirOfMaxGust10sDEG    0.983543\n",
       "totalSnowCM           0.852820\n",
       "totalRainMM           0.831851\n",
       "snowOnGroundCM        0.763106\n",
       "spdOfMaxGustKMH       0.678301\n",
       "totalPrecipMM         0.408892\n",
       "coolDegDays           0.208626\n",
       "heatDegDays           0.208626\n",
       "meanTemp              0.208626\n",
       "maxTemp               0.207167\n",
       "minTemp               0.205309\n",
       "date                  0.000000\n",
       "station               0.000000\n",
       "dtype: float64"
      ]
     },
     "execution_count": 16,
     "metadata": {},
     "output_type": "execute_result"
    }
   ],
   "source": [
    "(df.isnull().sum() / len(df)).sort_values(ascending=False)"
   ]
  },
  {
   "cell_type": "markdown",
   "metadata": {},
   "source": [
    "Variables with a significant proportion of missing values (> 50%)\n",
    "\n",
    "* `totalSnowCM` - The total snowfall, or amount of frozen (solid) precipitation in centimetres (cm), such as snow and ice pellets, observed at the location during a specified time interval.\n",
    "* `dirOfMaxGust10sDEG` - The direction of the maximum gust (true or geographic, not magnetic) from which the wind blows.\n",
    "* `snowOnGroundCM` - The depth of snow in centimetres (cm) on the ground.\n",
    "* `spdOfMaxGustKMH` - The speed in kilometres per hour (km/h) of the maximum wind gust during the day.\n",
    "* `totalPrecipMM` - The sum of the total rainfall and the water equivalent of the total snowfall in millimetres (mm).\n",
    "\n",
    "From the descriptions retrieved from Climate Canada's website [3], we can assume that the missing values are a result of few days with maximum wind gust speeds exceeding 29km/h. Snow is seasonal and is typically only observed during winter months, so we would expect a majority of observations to be missing. Similarly, we wouldn't expect to observe precipitation (here, measured as the sum of total rainfall and water equivalent of snowfall) everyday. It could be that `spdOfMaxGustKMH` is missing for days on which there were gusts which were fewer than 3 seconds, possibly too short for a weather sensor to capture, though it is unclear if this is really the cause.\n",
    "\n",
    "There are no major concerns about the missing data since our primary variable of interest - precipitation - appears to be missing in accordance with days without snow or rainfall.\n",
    "\n",
    "*See descriptions above for more detail."
   ]
  },
  {
   "cell_type": "markdown",
   "metadata": {},
   "source": [
    "### Station Aggregations"
   ]
  },
  {
   "cell_type": "markdown",
   "metadata": {},
   "source": [
    "Since we're primarly interested in temperature and precipitation variables for this analysis, we'll restrict the summary statistics to these variables at the station-level."
   ]
  },
  {
   "cell_type": "code",
   "execution_count": 17,
   "metadata": {},
   "outputs": [
    {
     "data": {
      "text/html": [
       "<div>\n",
       "<style scoped>\n",
       "    .dataframe tbody tr th:only-of-type {\n",
       "        vertical-align: middle;\n",
       "    }\n",
       "\n",
       "    .dataframe tbody tr th {\n",
       "        vertical-align: top;\n",
       "    }\n",
       "\n",
       "    .dataframe thead th {\n",
       "        text-align: right;\n",
       "    }\n",
       "</style>\n",
       "<table border=\"1\" class=\"dataframe\">\n",
       "  <thead>\n",
       "    <tr style=\"text-align: right;\">\n",
       "      <th></th>\n",
       "      <th>station</th>\n",
       "      <th>London A</th>\n",
       "      <th>London Airport</th>\n",
       "      <th>London CS</th>\n",
       "    </tr>\n",
       "  </thead>\n",
       "  <tbody>\n",
       "    <tr>\n",
       "      <th rowspan=\"8\" valign=\"top\">maxTemp</th>\n",
       "      <th>count</th>\n",
       "      <td>2602.000000</td>\n",
       "      <td>0.000000</td>\n",
       "      <td>3372.000000</td>\n",
       "    </tr>\n",
       "    <tr>\n",
       "      <th>mean</th>\n",
       "      <td>13.043236</td>\n",
       "      <td>NaN</td>\n",
       "      <td>13.026364</td>\n",
       "    </tr>\n",
       "    <tr>\n",
       "      <th>std</th>\n",
       "      <td>11.808024</td>\n",
       "      <td>NaN</td>\n",
       "      <td>11.695160</td>\n",
       "    </tr>\n",
       "    <tr>\n",
       "      <th>min</th>\n",
       "      <td>-19.000000</td>\n",
       "      <td>NaN</td>\n",
       "      <td>-18.800000</td>\n",
       "    </tr>\n",
       "    <tr>\n",
       "      <th>25%</th>\n",
       "      <td>3.325000</td>\n",
       "      <td>NaN</td>\n",
       "      <td>3.100000</td>\n",
       "    </tr>\n",
       "    <tr>\n",
       "      <th>50%</th>\n",
       "      <td>14.000000</td>\n",
       "      <td>NaN</td>\n",
       "      <td>13.800000</td>\n",
       "    </tr>\n",
       "    <tr>\n",
       "      <th>75%</th>\n",
       "      <td>23.800000</td>\n",
       "      <td>NaN</td>\n",
       "      <td>23.700000</td>\n",
       "    </tr>\n",
       "    <tr>\n",
       "      <th>max</th>\n",
       "      <td>34.800000</td>\n",
       "      <td>NaN</td>\n",
       "      <td>36.700000</td>\n",
       "    </tr>\n",
       "    <tr>\n",
       "      <th rowspan=\"8\" valign=\"top\">minTemp</th>\n",
       "      <th>count</th>\n",
       "      <td>2604.000000</td>\n",
       "      <td>0.000000</td>\n",
       "      <td>3384.000000</td>\n",
       "    </tr>\n",
       "    <tr>\n",
       "      <th>mean</th>\n",
       "      <td>2.861866</td>\n",
       "      <td>NaN</td>\n",
       "      <td>3.311643</td>\n",
       "    </tr>\n",
       "    <tr>\n",
       "      <th>std</th>\n",
       "      <td>10.198288</td>\n",
       "      <td>NaN</td>\n",
       "      <td>10.245000</td>\n",
       "    </tr>\n",
       "    <tr>\n",
       "      <th>min</th>\n",
       "      <td>-30.500000</td>\n",
       "      <td>NaN</td>\n",
       "      <td>-28.800000</td>\n",
       "    </tr>\n",
       "    <tr>\n",
       "      <th>25%</th>\n",
       "      <td>-3.800000</td>\n",
       "      <td>NaN</td>\n",
       "      <td>-3.600000</td>\n",
       "    </tr>\n",
       "    <tr>\n",
       "      <th>50%</th>\n",
       "      <td>2.800000</td>\n",
       "      <td>NaN</td>\n",
       "      <td>3.100000</td>\n",
       "    </tr>\n",
       "    <tr>\n",
       "      <th>75%</th>\n",
       "      <td>11.200000</td>\n",
       "      <td>NaN</td>\n",
       "      <td>12.100000</td>\n",
       "    </tr>\n",
       "    <tr>\n",
       "      <th>max</th>\n",
       "      <td>23.200000</td>\n",
       "      <td>NaN</td>\n",
       "      <td>24.600000</td>\n",
       "    </tr>\n",
       "    <tr>\n",
       "      <th rowspan=\"8\" valign=\"top\">meanTemp</th>\n",
       "      <th>count</th>\n",
       "      <td>2600.000000</td>\n",
       "      <td>0.000000</td>\n",
       "      <td>3363.000000</td>\n",
       "    </tr>\n",
       "    <tr>\n",
       "      <th>mean</th>\n",
       "      <td>7.965500</td>\n",
       "      <td>NaN</td>\n",
       "      <td>8.176301</td>\n",
       "    </tr>\n",
       "    <tr>\n",
       "      <th>std</th>\n",
       "      <td>10.847092</td>\n",
       "      <td>NaN</td>\n",
       "      <td>10.829723</td>\n",
       "    </tr>\n",
       "    <tr>\n",
       "      <th>min</th>\n",
       "      <td>-24.500000</td>\n",
       "      <td>NaN</td>\n",
       "      <td>-23.200000</td>\n",
       "    </tr>\n",
       "    <tr>\n",
       "      <th>25%</th>\n",
       "      <td>-0.200000</td>\n",
       "      <td>NaN</td>\n",
       "      <td>-0.300000</td>\n",
       "    </tr>\n",
       "    <tr>\n",
       "      <th>50%</th>\n",
       "      <td>8.250000</td>\n",
       "      <td>NaN</td>\n",
       "      <td>8.200000</td>\n",
       "    </tr>\n",
       "    <tr>\n",
       "      <th>75%</th>\n",
       "      <td>17.500000</td>\n",
       "      <td>NaN</td>\n",
       "      <td>17.900000</td>\n",
       "    </tr>\n",
       "    <tr>\n",
       "      <th>max</th>\n",
       "      <td>28.500000</td>\n",
       "      <td>NaN</td>\n",
       "      <td>30.700000</td>\n",
       "    </tr>\n",
       "    <tr>\n",
       "      <th rowspan=\"8\" valign=\"top\">totalPrecipMM</th>\n",
       "      <th>count</th>\n",
       "      <td>0.000000</td>\n",
       "      <td>1112.000000</td>\n",
       "      <td>3342.000000</td>\n",
       "    </tr>\n",
       "    <tr>\n",
       "      <th>mean</th>\n",
       "      <td>NaN</td>\n",
       "      <td>2.855396</td>\n",
       "      <td>2.626661</td>\n",
       "    </tr>\n",
       "    <tr>\n",
       "      <th>std</th>\n",
       "      <td>NaN</td>\n",
       "      <td>5.339202</td>\n",
       "      <td>6.047536</td>\n",
       "    </tr>\n",
       "    <tr>\n",
       "      <th>min</th>\n",
       "      <td>NaN</td>\n",
       "      <td>0.000000</td>\n",
       "      <td>0.000000</td>\n",
       "    </tr>\n",
       "    <tr>\n",
       "      <th>25%</th>\n",
       "      <td>NaN</td>\n",
       "      <td>0.000000</td>\n",
       "      <td>0.000000</td>\n",
       "    </tr>\n",
       "    <tr>\n",
       "      <th>50%</th>\n",
       "      <td>NaN</td>\n",
       "      <td>0.400000</td>\n",
       "      <td>0.000000</td>\n",
       "    </tr>\n",
       "    <tr>\n",
       "      <th>75%</th>\n",
       "      <td>NaN</td>\n",
       "      <td>3.100000</td>\n",
       "      <td>2.200000</td>\n",
       "    </tr>\n",
       "    <tr>\n",
       "      <th>max</th>\n",
       "      <td>NaN</td>\n",
       "      <td>40.300000</td>\n",
       "      <td>69.700000</td>\n",
       "    </tr>\n",
       "  </tbody>\n",
       "</table>\n",
       "</div>"
      ],
      "text/plain": [
       "station                 London A  London Airport    London CS\n",
       "maxTemp       count  2602.000000  0.000000        3372.000000\n",
       "              mean   13.043236   NaN              13.026364  \n",
       "              std    11.808024   NaN              11.695160  \n",
       "              min   -19.000000   NaN             -18.800000  \n",
       "              25%    3.325000    NaN              3.100000   \n",
       "              50%    14.000000   NaN              13.800000  \n",
       "              75%    23.800000   NaN              23.700000  \n",
       "              max    34.800000   NaN              36.700000  \n",
       "minTemp       count  2604.000000  0.000000        3384.000000\n",
       "              mean   2.861866    NaN              3.311643   \n",
       "              std    10.198288   NaN              10.245000  \n",
       "              min   -30.500000   NaN             -28.800000  \n",
       "              25%   -3.800000    NaN             -3.600000   \n",
       "              50%    2.800000    NaN              3.100000   \n",
       "              75%    11.200000   NaN              12.100000  \n",
       "              max    23.200000   NaN              24.600000  \n",
       "meanTemp      count  2600.000000  0.000000        3363.000000\n",
       "              mean   7.965500    NaN              8.176301   \n",
       "              std    10.847092   NaN              10.829723  \n",
       "              min   -24.500000   NaN             -23.200000  \n",
       "              25%   -0.200000    NaN             -0.300000   \n",
       "              50%    8.250000    NaN              8.200000   \n",
       "              75%    17.500000   NaN              17.900000  \n",
       "              max    28.500000   NaN              30.700000  \n",
       "totalPrecipMM count  0.000000     1112.000000     3342.000000\n",
       "              mean  NaN           2.855396        2.626661   \n",
       "              std   NaN           5.339202        6.047536   \n",
       "              min   NaN           0.000000        0.000000   \n",
       "              25%   NaN           0.000000        0.000000   \n",
       "              50%   NaN           0.400000        0.000000   \n",
       "              75%   NaN           3.100000        2.200000   \n",
       "              max   NaN           40.300000       69.700000  "
      ]
     },
     "execution_count": 17,
     "metadata": {},
     "output_type": "execute_result"
    }
   ],
   "source": [
    "vs = ['station', 'maxTemp', 'minTemp', 'meanTemp', 'totalPrecipMM']\n",
    "df[vs].groupby('station').describe().transpose()"
   ]
  },
  {
   "cell_type": "code",
   "execution_count": 20,
   "metadata": {
    "hide_input": false,
    "hide_output": false,
    "locked": false,
    "run_control": {
     "marked": false
    }
   },
   "outputs": [
    {
     "data": {
      "image/png": "[encoded data removed]",
      "text/plain": [
       "<Figure size 432x288 with 2 Axes>"
      ]
     },
     "metadata": {
      "needs_background": "light"
     },
     "output_type": "display_data"
    }
   ],
   "source": [
    "_ = sns.heatmap(df.groupby('station').apply(lambda x: pd.isnull(x).sum()).divide(df.groupby('station').size(), axis=0).transpose(), annot=True)\n",
    "_.set_title(\"Percent of Missing Data\");\n",
    "_.set_ylabel(\"Measurement\");"
   ]
  },
  {
   "cell_type": "code",
   "execution_count": 26,
   "metadata": {},
   "outputs": [
    {
     "data": {
      "image/png": "[encoded data removed]",
      "text/plain": [
       "<Figure size 864x648 with 12 Axes>"
      ]
     },
     "metadata": {},
     "output_type": "display_data"
    }
   ],
   "source": [
    "df_long = pd.melt(df[vs],  id_vars=['station'], value_vars=vs[1:])\n",
    "g = sns.FacetGrid(df_long, col='variable',  row='station')\n",
    "g.map(plt.hist, 'value');"
   ]
  },
  {
   "cell_type": "markdown",
   "metadata": {},
   "source": [
    "Distributions look similar / consistent between stations with data. The London Airport station is missing temperature data and the London A station is missing precipitation data. The temperature distributions are bimodal, as expected, exhibiting a varying mean due to seasonality. The precipitation (rainfall) distributions appear to be gamma distributed which is consistent with [7]."
   ]
  },
  {
   "cell_type": "markdown",
   "metadata": {},
   "source": [
    "#### Precipitation differences"
   ]
  },
  {
   "cell_type": "markdown",
   "metadata": {
    "hide_input": false,
    "hide_output": false,
    "run_control": {
     "marked": false
    }
   },
   "source": [
    "The London CS station's data is most complete. How different are the observations between stations with precipitation data?"
   ]
  },
  {
   "cell_type": "code",
   "execution_count": 29,
   "metadata": {},
   "outputs": [
    {
     "data": {
      "text/html": [
       "<div>\n",
       "<style scoped>\n",
       "    .dataframe tbody tr th:only-of-type {\n",
       "        vertical-align: middle;\n",
       "    }\n",
       "\n",
       "    .dataframe tbody tr th {\n",
       "        vertical-align: top;\n",
       "    }\n",
       "\n",
       "    .dataframe thead th {\n",
       "        text-align: right;\n",
       "    }\n",
       "</style>\n",
       "<table border=\"1\" class=\"dataframe\">\n",
       "  <thead>\n",
       "    <tr style=\"text-align: right;\">\n",
       "      <th>station</th>\n",
       "      <th>London Airport</th>\n",
       "      <th>London CS</th>\n",
       "    </tr>\n",
       "    <tr>\n",
       "      <th>date</th>\n",
       "      <th></th>\n",
       "      <th></th>\n",
       "    </tr>\n",
       "  </thead>\n",
       "  <tbody>\n",
       "    <tr>\n",
       "      <th>2010-01-01</th>\n",
       "      <td>6.2</td>\n",
       "      <td>3.6</td>\n",
       "    </tr>\n",
       "    <tr>\n",
       "      <th>2010-01-02</th>\n",
       "      <td>4.7</td>\n",
       "      <td>3.5</td>\n",
       "    </tr>\n",
       "    <tr>\n",
       "      <th>2010-01-03</th>\n",
       "      <td>1.0</td>\n",
       "      <td>1.2</td>\n",
       "    </tr>\n",
       "    <tr>\n",
       "      <th>2010-01-04</th>\n",
       "      <td>1.0</td>\n",
       "      <td>0.0</td>\n",
       "    </tr>\n",
       "    <tr>\n",
       "      <th>2010-01-05</th>\n",
       "      <td>NaN</td>\n",
       "      <td>0.0</td>\n",
       "    </tr>\n",
       "  </tbody>\n",
       "</table>\n",
       "</div>"
      ],
      "text/plain": [
       "station     London Airport  London CS\n",
       "date                                 \n",
       "2010-01-01  6.2             3.6      \n",
       "2010-01-02  4.7             3.5      \n",
       "2010-01-03  1.0             1.2      \n",
       "2010-01-04  1.0             0.0      \n",
       "2010-01-05 NaN              0.0      "
      ]
     },
     "execution_count": 29,
     "metadata": {},
     "output_type": "execute_result"
    }
   ],
   "source": [
    "precip_stations = (\n",
    "  df[['station', 'date','totalPrecipMM']]\n",
    "    .query('station in [\"London Airport\", \"London CS\"]')\n",
    "    .pivot(index='date', columns='station', values=['totalPrecipMM'])\n",
    ")\n",
    "precip_stations.columns = precip_stations.columns.droplevel(0)\n",
    "precip_stations.head()"
   ]
  },
  {
   "cell_type": "code",
   "execution_count": 30,
   "metadata": {},
   "outputs": [
    {
     "data": {
      "image/png": "[encoded data removed]",
      "text/plain": [
       "<Figure size 432x288 with 1 Axes>"
      ]
     },
     "metadata": {},
     "output_type": "display_data"
    }
   ],
   "source": [
    "precip_stations['difference'] = precip_stations['London Airport'] - precip_stations['London CS']\n",
    "precip_stations.difference.hist();"
   ]
  },
  {
   "cell_type": "code",
   "execution_count": 31,
   "metadata": {},
   "outputs": [
    {
     "data": {
      "text/plain": [
       "count    1093.000000\n",
       "mean     0.354163   \n",
       "std      3.451900   \n",
       "min     -22.900000  \n",
       "25%     -0.200000   \n",
       "50%      0.000000   \n",
       "75%      0.700000   \n",
       "max      24.000000  \n",
       "Name: difference, dtype: float64"
      ]
     },
     "execution_count": 31,
     "metadata": {},
     "output_type": "execute_result"
    }
   ],
   "source": [
    "precip_stations.difference.describe()"
   ]
  },
  {
   "cell_type": "markdown",
   "metadata": {},
   "source": [
    "On average, it doesn't look like the precipitation measurements are significantly different between stations so we can use an average of the two stations to compute daily precipitation measurements. Are the extreme differences systematic?"
   ]
  },
  {
   "cell_type": "code",
   "execution_count": 32,
   "metadata": {},
   "outputs": [
    {
     "data": {
      "text/html": [
       "<div>\n",
       "<style scoped>\n",
       "    .dataframe tbody tr th:only-of-type {\n",
       "        vertical-align: middle;\n",
       "    }\n",
       "\n",
       "    .dataframe tbody tr th {\n",
       "        vertical-align: top;\n",
       "    }\n",
       "\n",
       "    .dataframe thead th {\n",
       "        text-align: right;\n",
       "    }\n",
       "</style>\n",
       "<table border=\"1\" class=\"dataframe\">\n",
       "  <thead>\n",
       "    <tr style=\"text-align: right;\">\n",
       "      <th>station</th>\n",
       "      <th>London Airport</th>\n",
       "      <th>London CS</th>\n",
       "      <th>difference</th>\n",
       "    </tr>\n",
       "    <tr>\n",
       "      <th>date</th>\n",
       "      <th></th>\n",
       "      <th></th>\n",
       "      <th></th>\n",
       "    </tr>\n",
       "  </thead>\n",
       "  <tbody>\n",
       "    <tr>\n",
       "      <th>2010-04-05</th>\n",
       "      <td>15.6</td>\n",
       "      <td>0.0</td>\n",
       "      <td>15.6</td>\n",
       "    </tr>\n",
       "    <tr>\n",
       "      <th>2010-11-22</th>\n",
       "      <td>25.4</td>\n",
       "      <td>12.1</td>\n",
       "      <td>13.3</td>\n",
       "    </tr>\n",
       "    <tr>\n",
       "      <th>2010-11-29</th>\n",
       "      <td>13.4</td>\n",
       "      <td>0.0</td>\n",
       "      <td>13.4</td>\n",
       "    </tr>\n",
       "    <tr>\n",
       "      <th>2010-12-05</th>\n",
       "      <td>29.0</td>\n",
       "      <td>7.2</td>\n",
       "      <td>21.8</td>\n",
       "    </tr>\n",
       "    <tr>\n",
       "      <th>2011-02-01</th>\n",
       "      <td>13.4</td>\n",
       "      <td>5.3</td>\n",
       "      <td>8.1</td>\n",
       "    </tr>\n",
       "    <tr>\n",
       "      <th>2011-02-27</th>\n",
       "      <td>17.4</td>\n",
       "      <td>0.6</td>\n",
       "      <td>16.8</td>\n",
       "    </tr>\n",
       "    <tr>\n",
       "      <th>2011-03-04</th>\n",
       "      <td>17.2</td>\n",
       "      <td>2.7</td>\n",
       "      <td>14.5</td>\n",
       "    </tr>\n",
       "    <tr>\n",
       "      <th>2011-11-22</th>\n",
       "      <td>20.1</td>\n",
       "      <td>11.4</td>\n",
       "      <td>8.7</td>\n",
       "    </tr>\n",
       "    <tr>\n",
       "      <th>2011-11-28</th>\n",
       "      <td>21.8</td>\n",
       "      <td>7.0</td>\n",
       "      <td>14.8</td>\n",
       "    </tr>\n",
       "    <tr>\n",
       "      <th>2011-12-05</th>\n",
       "      <td>31.4</td>\n",
       "      <td>15.7</td>\n",
       "      <td>15.7</td>\n",
       "    </tr>\n",
       "    <tr>\n",
       "      <th>2013-01-12</th>\n",
       "      <td>24.2</td>\n",
       "      <td>0.2</td>\n",
       "      <td>24.0</td>\n",
       "    </tr>\n",
       "    <tr>\n",
       "      <th>2013-02-07</th>\n",
       "      <td>9.0</td>\n",
       "      <td>0.2</td>\n",
       "      <td>8.8</td>\n",
       "    </tr>\n",
       "    <tr>\n",
       "      <th>2013-02-18</th>\n",
       "      <td>14.0</td>\n",
       "      <td>0.0</td>\n",
       "      <td>14.0</td>\n",
       "    </tr>\n",
       "    <tr>\n",
       "      <th>2013-11-23</th>\n",
       "      <td>17.2</td>\n",
       "      <td>4.5</td>\n",
       "      <td>12.7</td>\n",
       "    </tr>\n",
       "    <tr>\n",
       "      <th>2014-11-23</th>\n",
       "      <td>27.0</td>\n",
       "      <td>19.2</td>\n",
       "      <td>7.8</td>\n",
       "    </tr>\n",
       "    <tr>\n",
       "      <th>2015-02-01</th>\n",
       "      <td>17.8</td>\n",
       "      <td>9.1</td>\n",
       "      <td>8.7</td>\n",
       "    </tr>\n",
       "    <tr>\n",
       "      <th>2015-11-05</th>\n",
       "      <td>8.0</td>\n",
       "      <td>0.0</td>\n",
       "      <td>8.0</td>\n",
       "    </tr>\n",
       "    <tr>\n",
       "      <th>2016-01-14</th>\n",
       "      <td>17.0</td>\n",
       "      <td>0.3</td>\n",
       "      <td>16.7</td>\n",
       "    </tr>\n",
       "    <tr>\n",
       "      <th>2016-02-10</th>\n",
       "      <td>9.2</td>\n",
       "      <td>1.8</td>\n",
       "      <td>7.4</td>\n",
       "    </tr>\n",
       "    <tr>\n",
       "      <th>2016-03-23</th>\n",
       "      <td>15.6</td>\n",
       "      <td>7.5</td>\n",
       "      <td>8.1</td>\n",
       "    </tr>\n",
       "    <tr>\n",
       "      <th>2016-03-27</th>\n",
       "      <td>16.2</td>\n",
       "      <td>6.0</td>\n",
       "      <td>10.2</td>\n",
       "    </tr>\n",
       "    <tr>\n",
       "      <th>2016-03-30</th>\n",
       "      <td>12.4</td>\n",
       "      <td>0.0</td>\n",
       "      <td>12.4</td>\n",
       "    </tr>\n",
       "    <tr>\n",
       "      <th>2016-04-06</th>\n",
       "      <td>20.4</td>\n",
       "      <td>7.9</td>\n",
       "      <td>12.5</td>\n",
       "    </tr>\n",
       "    <tr>\n",
       "      <th>2016-04-10</th>\n",
       "      <td>21.4</td>\n",
       "      <td>10.8</td>\n",
       "      <td>10.6</td>\n",
       "    </tr>\n",
       "    <tr>\n",
       "      <th>2016-11-02</th>\n",
       "      <td>18.4</td>\n",
       "      <td>6.2</td>\n",
       "      <td>12.2</td>\n",
       "    </tr>\n",
       "    <tr>\n",
       "      <th>2017-02-28</th>\n",
       "      <td>36.0</td>\n",
       "      <td>14.2</td>\n",
       "      <td>21.8</td>\n",
       "    </tr>\n",
       "    <tr>\n",
       "      <th>2017-03-06</th>\n",
       "      <td>10.2</td>\n",
       "      <td>2.6</td>\n",
       "      <td>7.6</td>\n",
       "    </tr>\n",
       "    <tr>\n",
       "      <th>2018-04-06</th>\n",
       "      <td>22.4</td>\n",
       "      <td>5.1</td>\n",
       "      <td>17.3</td>\n",
       "    </tr>\n",
       "    <tr>\n",
       "      <th>2018-04-10</th>\n",
       "      <td>10.6</td>\n",
       "      <td>0.0</td>\n",
       "      <td>10.6</td>\n",
       "    </tr>\n",
       "    <tr>\n",
       "      <th>2019-04-06</th>\n",
       "      <td>22.4</td>\n",
       "      <td>0.0</td>\n",
       "      <td>22.4</td>\n",
       "    </tr>\n",
       "    <tr>\n",
       "      <th>2019-04-10</th>\n",
       "      <td>10.6</td>\n",
       "      <td>0.2</td>\n",
       "      <td>10.4</td>\n",
       "    </tr>\n",
       "  </tbody>\n",
       "</table>\n",
       "</div>"
      ],
      "text/plain": [
       "station     London Airport  London CS  difference\n",
       "date                                             \n",
       "2010-04-05  15.6            0.0        15.6      \n",
       "2010-11-22  25.4            12.1       13.3      \n",
       "2010-11-29  13.4            0.0        13.4      \n",
       "2010-12-05  29.0            7.2        21.8      \n",
       "2011-02-01  13.4            5.3        8.1       \n",
       "2011-02-27  17.4            0.6        16.8      \n",
       "2011-03-04  17.2            2.7        14.5      \n",
       "2011-11-22  20.1            11.4       8.7       \n",
       "2011-11-28  21.8            7.0        14.8      \n",
       "2011-12-05  31.4            15.7       15.7      \n",
       "2013-01-12  24.2            0.2        24.0      \n",
       "2013-02-07  9.0             0.2        8.8       \n",
       "2013-02-18  14.0            0.0        14.0      \n",
       "2013-11-23  17.2            4.5        12.7      \n",
       "2014-11-23  27.0            19.2       7.8       \n",
       "2015-02-01  17.8            9.1        8.7       \n",
       "2015-11-05  8.0             0.0        8.0       \n",
       "2016-01-14  17.0            0.3        16.7      \n",
       "2016-02-10  9.2             1.8        7.4       \n",
       "2016-03-23  15.6            7.5        8.1       \n",
       "2016-03-27  16.2            6.0        10.2      \n",
       "2016-03-30  12.4            0.0        12.4      \n",
       "2016-04-06  20.4            7.9        12.5      \n",
       "2016-04-10  21.4            10.8       10.6      \n",
       "2016-11-02  18.4            6.2        12.2      \n",
       "2017-02-28  36.0            14.2       21.8      \n",
       "2017-03-06  10.2            2.6        7.6       \n",
       "2018-04-06  22.4            5.1        17.3      \n",
       "2018-04-10  10.6            0.0        10.6      \n",
       "2019-04-06  22.4            0.0        22.4      \n",
       "2019-04-10  10.6            0.2        10.4      "
      ]
     },
     "execution_count": 32,
     "metadata": {},
     "output_type": "execute_result"
    }
   ],
   "source": [
    "precip_diff_outliers = precip_stations.query('(difference - difference.mean()) / difference.std() > 2').copy()\n",
    "precip_diff_outliers"
   ]
  },
  {
   "cell_type": "code",
   "execution_count": 33,
   "metadata": {},
   "outputs": [],
   "source": [
    "precip_diff_outliers['month'] = pd.to_datetime(precip_diff_outliers.index).month\n",
    "precip_diff_outliers['year'] = pd.to_datetime(precip_diff_outliers.index).year"
   ]
  },
  {
   "cell_type": "code",
   "execution_count": 35,
   "metadata": {},
   "outputs": [
    {
     "data": {
      "text/plain": [
       "month\n",
       "11    8\n",
       "4     7\n",
       "2     7\n",
       "3     5\n",
       "12    2\n",
       "1     2\n",
       "dtype: int64"
      ]
     },
     "execution_count": 35,
     "metadata": {},
     "output_type": "execute_result"
    }
   ],
   "source": [
    "precip_diff_outliers.groupby('month').size().sort_values(ascending=False)"
   ]
  },
  {
   "cell_type": "code",
   "execution_count": 37,
   "metadata": {},
   "outputs": [
    {
     "data": {
      "text/plain": [
       "year\n",
       "2016    8\n",
       "2011    6\n",
       "2013    4\n",
       "2010    4\n",
       "2019    2\n",
       "2018    2\n",
       "2017    2\n",
       "2015    2\n",
       "2014    1\n",
       "dtype: int64"
      ]
     },
     "execution_count": 37,
     "metadata": {},
     "output_type": "execute_result"
    }
   ],
   "source": [
    "precip_diff_outliers.groupby('year').size().sort_values(ascending=False)"
   ]
  },
  {
   "cell_type": "markdown",
   "metadata": {},
   "source": [
    "Extreme differences in rainfall observations are typically observed earlier or later in the year, presumably when rainfall is more eratic, and has been less frequent over the last two years. It's interesting though that in every case, precipitation is higher at the London Airport station than at the London CS station. \n",
    "\n",
    "A possible explanation for the consistently higher difference at the London Airport station is that the airport uses cloud seeding [8] to improve visiblity. While we could perform a formal hypothesis test using simulation (since the sample size is small) to determine if the difference in proportions of larger differences is significant, with the Airport having a larger proportion of bigger differences, it is out of scope for this project."
   ]
  },
  {
   "cell_type": "markdown",
   "metadata": {},
   "source": [
    "#### Temperature differences"
   ]
  },
  {
   "cell_type": "markdown",
   "metadata": {
    "hide_input": false,
    "hide_output": false,
    "run_control": {
     "marked": false
    }
   },
   "source": [
    "How different are the temperature observations between stations with precipitation data?"
   ]
  },
  {
   "cell_type": "code",
   "execution_count": 38,
   "metadata": {},
   "outputs": [
    {
     "data": {
      "text/html": [
       "<div>\n",
       "<style scoped>\n",
       "    .dataframe tbody tr th:only-of-type {\n",
       "        vertical-align: middle;\n",
       "    }\n",
       "\n",
       "    .dataframe tbody tr th {\n",
       "        vertical-align: top;\n",
       "    }\n",
       "\n",
       "    .dataframe thead tr th {\n",
       "        text-align: left;\n",
       "    }\n",
       "\n",
       "    .dataframe thead tr:last-of-type th {\n",
       "        text-align: right;\n",
       "    }\n",
       "</style>\n",
       "<table border=\"1\" class=\"dataframe\">\n",
       "  <thead>\n",
       "    <tr>\n",
       "      <th></th>\n",
       "      <th colspan=\"2\" halign=\"left\">minTemp</th>\n",
       "      <th colspan=\"2\" halign=\"left\">meanTemp</th>\n",
       "      <th colspan=\"2\" halign=\"left\">maxTemp</th>\n",
       "    </tr>\n",
       "    <tr>\n",
       "      <th>station</th>\n",
       "      <th>London A</th>\n",
       "      <th>London CS</th>\n",
       "      <th>London A</th>\n",
       "      <th>London CS</th>\n",
       "      <th>London A</th>\n",
       "      <th>London CS</th>\n",
       "    </tr>\n",
       "    <tr>\n",
       "      <th>date</th>\n",
       "      <th></th>\n",
       "      <th></th>\n",
       "      <th></th>\n",
       "      <th></th>\n",
       "      <th></th>\n",
       "      <th></th>\n",
       "    </tr>\n",
       "  </thead>\n",
       "  <tbody>\n",
       "    <tr>\n",
       "      <th>2019-05-05</th>\n",
       "      <td>4.2</td>\n",
       "      <td>4.9</td>\n",
       "      <td>11.9</td>\n",
       "      <td>12.3</td>\n",
       "      <td>19.6</td>\n",
       "      <td>19.7</td>\n",
       "    </tr>\n",
       "    <tr>\n",
       "      <th>2019-05-06</th>\n",
       "      <td>5.2</td>\n",
       "      <td>5.4</td>\n",
       "      <td>13.2</td>\n",
       "      <td>13.4</td>\n",
       "      <td>21.1</td>\n",
       "      <td>21.4</td>\n",
       "    </tr>\n",
       "    <tr>\n",
       "      <th>2019-05-07</th>\n",
       "      <td>3.8</td>\n",
       "      <td>4.7</td>\n",
       "      <td>7.1</td>\n",
       "      <td>7.8</td>\n",
       "      <td>10.3</td>\n",
       "      <td>10.8</td>\n",
       "    </tr>\n",
       "    <tr>\n",
       "      <th>2019-05-08</th>\n",
       "      <td>3.1</td>\n",
       "      <td>3.8</td>\n",
       "      <td>8.3</td>\n",
       "      <td>8.4</td>\n",
       "      <td>13.4</td>\n",
       "      <td>13.0</td>\n",
       "    </tr>\n",
       "    <tr>\n",
       "      <th>2019-05-09</th>\n",
       "      <td>7.0</td>\n",
       "      <td>7.4</td>\n",
       "      <td>14.7</td>\n",
       "      <td>14.9</td>\n",
       "      <td>22.4</td>\n",
       "      <td>22.3</td>\n",
       "    </tr>\n",
       "  </tbody>\n",
       "</table>\n",
       "</div>"
      ],
      "text/plain": [
       "            minTemp           meanTemp            maxTemp          \n",
       "station    London A London CS London A London CS London A London CS\n",
       "date                                                               \n",
       "2019-05-05  4.2      4.9       11.9     12.3      19.6     19.7    \n",
       "2019-05-06  5.2      5.4       13.2     13.4      21.1     21.4    \n",
       "2019-05-07  3.8      4.7       7.1      7.8       10.3     10.8    \n",
       "2019-05-08  3.1      3.8       8.3      8.4       13.4     13.0    \n",
       "2019-05-09  7.0      7.4       14.7     14.9      22.4     22.3    "
      ]
     },
     "execution_count": 38,
     "metadata": {},
     "output_type": "execute_result"
    }
   ],
   "source": [
    "vs = ['minTemp', 'meanTemp', 'maxTemp']\n",
    "temp_stations = (\n",
    "  df[['station', 'date'] + vs]\n",
    "    .query('station.isin([\"London A\", \"London CS\"])')\n",
    "    .pivot(index='date', columns='station', values=vs)\n",
    ")\n",
    "temp_stations.tail()"
   ]
  },
  {
   "cell_type": "code",
   "execution_count": 39,
   "metadata": {},
   "outputs": [],
   "source": [
    "dfs = []\n",
    "for var in temp_stations.columns.levels[0]:\n",
    "  station_vals = temp_stations.xs(var, axis=1)\n",
    "  stations_diffs = station_vals['London A'] - station_vals['London CS']\n",
    "  station_diffs_df = pd.DataFrame({'difference': stations_diffs, 'variable': var})\n",
    "  dfs.append(station_diffs_df)\n",
    "\n",
    "var_diffs_df = pd.concat(dfs)"
   ]
  },
  {
   "cell_type": "code",
   "execution_count": 40,
   "metadata": {},
   "outputs": [
    {
     "data": {
      "image/png": "[encoded data removed]",
      "text/plain": [
       "<Figure size 432x288 with 1 Axes>"
      ]
     },
     "metadata": {},
     "output_type": "display_data"
    }
   ],
   "source": [
    "sns.boxplot(x='variable', y='difference', data=var_diffs_df);"
   ]
  },
  {
   "cell_type": "markdown",
   "metadata": {},
   "source": [
    "All of the temperature variables are on average higher for the London A than the London CS station, indicating the possibility of some systematic difference in the sensors between stations. There are also some extreme differences at the tail end of the distributions which may simply be the result of device error."
   ]
  },
  {
   "cell_type": "code",
   "execution_count": 41,
   "metadata": {},
   "outputs": [
    {
     "data": {
      "text/html": [
       "<div>\n",
       "<style scoped>\n",
       "    .dataframe tbody tr th:only-of-type {\n",
       "        vertical-align: middle;\n",
       "    }\n",
       "\n",
       "    .dataframe tbody tr th {\n",
       "        vertical-align: top;\n",
       "    }\n",
       "\n",
       "    .dataframe thead th {\n",
       "        text-align: right;\n",
       "    }\n",
       "</style>\n",
       "<table border=\"1\" class=\"dataframe\">\n",
       "  <thead>\n",
       "    <tr style=\"text-align: right;\">\n",
       "      <th></th>\n",
       "      <th>difference</th>\n",
       "      <th>variable</th>\n",
       "    </tr>\n",
       "    <tr>\n",
       "      <th>date</th>\n",
       "      <th></th>\n",
       "      <th></th>\n",
       "    </tr>\n",
       "  </thead>\n",
       "  <tbody>\n",
       "    <tr>\n",
       "      <th>2010-03-20</th>\n",
       "      <td>15.4</td>\n",
       "      <td>meanTemp</td>\n",
       "    </tr>\n",
       "    <tr>\n",
       "      <th>2010-03-21</th>\n",
       "      <td>14.7</td>\n",
       "      <td>meanTemp</td>\n",
       "    </tr>\n",
       "    <tr>\n",
       "      <th>2010-03-22</th>\n",
       "      <td>16.0</td>\n",
       "      <td>meanTemp</td>\n",
       "    </tr>\n",
       "    <tr>\n",
       "      <th>2010-03-24</th>\n",
       "      <td>4.9</td>\n",
       "      <td>meanTemp</td>\n",
       "    </tr>\n",
       "    <tr>\n",
       "      <th>2010-03-25</th>\n",
       "      <td>6.4</td>\n",
       "      <td>meanTemp</td>\n",
       "    </tr>\n",
       "    <tr>\n",
       "      <th>2010-03-26</th>\n",
       "      <td>1.8</td>\n",
       "      <td>meanTemp</td>\n",
       "    </tr>\n",
       "    <tr>\n",
       "      <th>2010-03-28</th>\n",
       "      <td>6.5</td>\n",
       "      <td>meanTemp</td>\n",
       "    </tr>\n",
       "    <tr>\n",
       "      <th>2011-03-20</th>\n",
       "      <td>16.7</td>\n",
       "      <td>meanTemp</td>\n",
       "    </tr>\n",
       "    <tr>\n",
       "      <th>2011-03-21</th>\n",
       "      <td>13.9</td>\n",
       "      <td>meanTemp</td>\n",
       "    </tr>\n",
       "    <tr>\n",
       "      <th>2011-03-22</th>\n",
       "      <td>16.8</td>\n",
       "      <td>meanTemp</td>\n",
       "    </tr>\n",
       "    <tr>\n",
       "      <th>2011-03-24</th>\n",
       "      <td>16.0</td>\n",
       "      <td>meanTemp</td>\n",
       "    </tr>\n",
       "    <tr>\n",
       "      <th>2011-03-25</th>\n",
       "      <td>16.3</td>\n",
       "      <td>meanTemp</td>\n",
       "    </tr>\n",
       "    <tr>\n",
       "      <th>2011-03-26</th>\n",
       "      <td>7.7</td>\n",
       "      <td>meanTemp</td>\n",
       "    </tr>\n",
       "    <tr>\n",
       "      <th>2011-03-27</th>\n",
       "      <td>7.0</td>\n",
       "      <td>meanTemp</td>\n",
       "    </tr>\n",
       "    <tr>\n",
       "      <th>2011-03-28</th>\n",
       "      <td>15.9</td>\n",
       "      <td>meanTemp</td>\n",
       "    </tr>\n",
       "    <tr>\n",
       "      <th>2011-03-29</th>\n",
       "      <td>3.6</td>\n",
       "      <td>meanTemp</td>\n",
       "    </tr>\n",
       "    <tr>\n",
       "      <th>2011-03-30</th>\n",
       "      <td>1.9</td>\n",
       "      <td>meanTemp</td>\n",
       "    </tr>\n",
       "    <tr>\n",
       "      <th>2012-09-18</th>\n",
       "      <td>2.1</td>\n",
       "      <td>meanTemp</td>\n",
       "    </tr>\n",
       "    <tr>\n",
       "      <th>2017-08-08</th>\n",
       "      <td>1.5</td>\n",
       "      <td>meanTemp</td>\n",
       "    </tr>\n",
       "  </tbody>\n",
       "</table>\n",
       "</div>"
      ],
      "text/plain": [
       "            difference  variable\n",
       "date                            \n",
       "2010-03-20  15.4        meanTemp\n",
       "2010-03-21  14.7        meanTemp\n",
       "2010-03-22  16.0        meanTemp\n",
       "2010-03-24  4.9         meanTemp\n",
       "2010-03-25  6.4         meanTemp\n",
       "2010-03-26  1.8         meanTemp\n",
       "2010-03-28  6.5         meanTemp\n",
       "2011-03-20  16.7        meanTemp\n",
       "2011-03-21  13.9        meanTemp\n",
       "2011-03-22  16.8        meanTemp\n",
       "2011-03-24  16.0        meanTemp\n",
       "2011-03-25  16.3        meanTemp\n",
       "2011-03-26  7.7         meanTemp\n",
       "2011-03-27  7.0         meanTemp\n",
       "2011-03-28  15.9        meanTemp\n",
       "2011-03-29  3.6         meanTemp\n",
       "2011-03-30  1.9         meanTemp\n",
       "2012-09-18  2.1         meanTemp\n",
       "2017-08-08  1.5         meanTemp"
      ]
     },
     "execution_count": 41,
     "metadata": {},
     "output_type": "execute_result"
    }
   ],
   "source": [
    "extreme_temp_diffs_mean = var_diffs_df.query('(variable == \"meanTemp\") & ((difference - difference.mean()) * difference.std() > 2)')\n",
    "extreme_temp_diffs_mean"
   ]
  },
  {
   "cell_type": "code",
   "execution_count": 42,
   "metadata": {},
   "outputs": [
    {
     "data": {
      "image/png": "[encoded data removed]",
      "text/plain": [
       "<Figure size 432x288 with 1 Axes>"
      ]
     },
     "metadata": {},
     "output_type": "display_data"
    }
   ],
   "source": [
    "extreme_temp_diffs_mean.plot();"
   ]
  },
  {
   "cell_type": "code",
   "execution_count": 43,
   "metadata": {},
   "outputs": [
    {
     "data": {
      "text/html": [
       "<div>\n",
       "<style scoped>\n",
       "    .dataframe tbody tr th:only-of-type {\n",
       "        vertical-align: middle;\n",
       "    }\n",
       "\n",
       "    .dataframe tbody tr th {\n",
       "        vertical-align: top;\n",
       "    }\n",
       "\n",
       "    .dataframe thead th {\n",
       "        text-align: right;\n",
       "    }\n",
       "</style>\n",
       "<table border=\"1\" class=\"dataframe\">\n",
       "  <thead>\n",
       "    <tr style=\"text-align: right;\">\n",
       "      <th></th>\n",
       "      <th>difference</th>\n",
       "      <th>variable</th>\n",
       "    </tr>\n",
       "    <tr>\n",
       "      <th>date</th>\n",
       "      <th></th>\n",
       "      <th></th>\n",
       "    </tr>\n",
       "  </thead>\n",
       "  <tbody>\n",
       "    <tr>\n",
       "      <th>2010-03-20</th>\n",
       "      <td>10.4</td>\n",
       "      <td>minTemp</td>\n",
       "    </tr>\n",
       "    <tr>\n",
       "      <th>2010-03-21</th>\n",
       "      <td>11.4</td>\n",
       "      <td>minTemp</td>\n",
       "    </tr>\n",
       "    <tr>\n",
       "      <th>2010-03-22</th>\n",
       "      <td>9.3</td>\n",
       "      <td>minTemp</td>\n",
       "    </tr>\n",
       "    <tr>\n",
       "      <th>2010-03-23</th>\n",
       "      <td>13.7</td>\n",
       "      <td>minTemp</td>\n",
       "    </tr>\n",
       "    <tr>\n",
       "      <th>2010-03-24</th>\n",
       "      <td>9.2</td>\n",
       "      <td>minTemp</td>\n",
       "    </tr>\n",
       "    <tr>\n",
       "      <th>2010-03-25</th>\n",
       "      <td>5.0</td>\n",
       "      <td>minTemp</td>\n",
       "    </tr>\n",
       "    <tr>\n",
       "      <th>2010-03-28</th>\n",
       "      <td>2.5</td>\n",
       "      <td>minTemp</td>\n",
       "    </tr>\n",
       "    <tr>\n",
       "      <th>2010-03-31</th>\n",
       "      <td>1.6</td>\n",
       "      <td>minTemp</td>\n",
       "    </tr>\n",
       "    <tr>\n",
       "      <th>2011-03-20</th>\n",
       "      <td>15.6</td>\n",
       "      <td>minTemp</td>\n",
       "    </tr>\n",
       "    <tr>\n",
       "      <th>2011-03-21</th>\n",
       "      <td>9.7</td>\n",
       "      <td>minTemp</td>\n",
       "    </tr>\n",
       "    <tr>\n",
       "      <th>2011-03-22</th>\n",
       "      <td>11.7</td>\n",
       "      <td>minTemp</td>\n",
       "    </tr>\n",
       "    <tr>\n",
       "      <th>2011-03-23</th>\n",
       "      <td>17.3</td>\n",
       "      <td>minTemp</td>\n",
       "    </tr>\n",
       "    <tr>\n",
       "      <th>2011-03-24</th>\n",
       "      <td>16.6</td>\n",
       "      <td>minTemp</td>\n",
       "    </tr>\n",
       "    <tr>\n",
       "      <th>2011-03-25</th>\n",
       "      <td>13.0</td>\n",
       "      <td>minTemp</td>\n",
       "    </tr>\n",
       "    <tr>\n",
       "      <th>2011-03-26</th>\n",
       "      <td>7.7</td>\n",
       "      <td>minTemp</td>\n",
       "    </tr>\n",
       "    <tr>\n",
       "      <th>2011-03-27</th>\n",
       "      <td>3.5</td>\n",
       "      <td>minTemp</td>\n",
       "    </tr>\n",
       "    <tr>\n",
       "      <th>2011-03-28</th>\n",
       "      <td>13.0</td>\n",
       "      <td>minTemp</td>\n",
       "    </tr>\n",
       "    <tr>\n",
       "      <th>2011-03-29</th>\n",
       "      <td>6.6</td>\n",
       "      <td>minTemp</td>\n",
       "    </tr>\n",
       "    <tr>\n",
       "      <th>2011-03-30</th>\n",
       "      <td>2.8</td>\n",
       "      <td>minTemp</td>\n",
       "    </tr>\n",
       "    <tr>\n",
       "      <th>2012-09-18</th>\n",
       "      <td>5.4</td>\n",
       "      <td>minTemp</td>\n",
       "    </tr>\n",
       "    <tr>\n",
       "      <th>2015-05-04</th>\n",
       "      <td>1.5</td>\n",
       "      <td>minTemp</td>\n",
       "    </tr>\n",
       "    <tr>\n",
       "      <th>2016-02-11</th>\n",
       "      <td>1.7</td>\n",
       "      <td>minTemp</td>\n",
       "    </tr>\n",
       "    <tr>\n",
       "      <th>2016-08-12</th>\n",
       "      <td>1.5</td>\n",
       "      <td>minTemp</td>\n",
       "    </tr>\n",
       "    <tr>\n",
       "      <th>2018-01-01</th>\n",
       "      <td>1.6</td>\n",
       "      <td>minTemp</td>\n",
       "    </tr>\n",
       "    <tr>\n",
       "      <th>2018-07-06</th>\n",
       "      <td>1.9</td>\n",
       "      <td>minTemp</td>\n",
       "    </tr>\n",
       "  </tbody>\n",
       "</table>\n",
       "</div>"
      ],
      "text/plain": [
       "            difference variable\n",
       "date                           \n",
       "2010-03-20  10.4        minTemp\n",
       "2010-03-21  11.4        minTemp\n",
       "2010-03-22  9.3         minTemp\n",
       "2010-03-23  13.7        minTemp\n",
       "2010-03-24  9.2         minTemp\n",
       "2010-03-25  5.0         minTemp\n",
       "2010-03-28  2.5         minTemp\n",
       "2010-03-31  1.6         minTemp\n",
       "2011-03-20  15.6        minTemp\n",
       "2011-03-21  9.7         minTemp\n",
       "2011-03-22  11.7        minTemp\n",
       "2011-03-23  17.3        minTemp\n",
       "2011-03-24  16.6        minTemp\n",
       "2011-03-25  13.0        minTemp\n",
       "2011-03-26  7.7         minTemp\n",
       "2011-03-27  3.5         minTemp\n",
       "2011-03-28  13.0        minTemp\n",
       "2011-03-29  6.6         minTemp\n",
       "2011-03-30  2.8         minTemp\n",
       "2012-09-18  5.4         minTemp\n",
       "2015-05-04  1.5         minTemp\n",
       "2016-02-11  1.7         minTemp\n",
       "2016-08-12  1.5         minTemp\n",
       "2018-01-01  1.6         minTemp\n",
       "2018-07-06  1.9         minTemp"
      ]
     },
     "execution_count": 43,
     "metadata": {},
     "output_type": "execute_result"
    }
   ],
   "source": [
    "extreme_temp_diffs_min = var_diffs_df.query('(variable == \"minTemp\") & ((difference - difference.mean()) * difference.std() > 2)')\n",
    "extreme_temp_diffs_min"
   ]
  },
  {
   "cell_type": "code",
   "execution_count": 44,
   "metadata": {},
   "outputs": [
    {
     "data": {
      "image/png": "[encoded data removed]",
      "text/plain": [
       "<Figure size 432x288 with 1 Axes>"
      ]
     },
     "metadata": {},
     "output_type": "display_data"
    }
   ],
   "source": [
    "extreme_temp_diffs_min.plot();"
   ]
  },
  {
   "cell_type": "code",
   "execution_count": 45,
   "metadata": {},
   "outputs": [
    {
     "data": {
      "text/html": [
       "<div>\n",
       "<style scoped>\n",
       "    .dataframe tbody tr th:only-of-type {\n",
       "        vertical-align: middle;\n",
       "    }\n",
       "\n",
       "    .dataframe tbody tr th {\n",
       "        vertical-align: top;\n",
       "    }\n",
       "\n",
       "    .dataframe thead th {\n",
       "        text-align: right;\n",
       "    }\n",
       "</style>\n",
       "<table border=\"1\" class=\"dataframe\">\n",
       "  <thead>\n",
       "    <tr style=\"text-align: right;\">\n",
       "      <th></th>\n",
       "      <th>difference</th>\n",
       "      <th>variable</th>\n",
       "    </tr>\n",
       "    <tr>\n",
       "      <th>date</th>\n",
       "      <th></th>\n",
       "      <th></th>\n",
       "    </tr>\n",
       "  </thead>\n",
       "  <tbody>\n",
       "    <tr>\n",
       "      <th>2010-03-20</th>\n",
       "      <td>20.5</td>\n",
       "      <td>maxTemp</td>\n",
       "    </tr>\n",
       "    <tr>\n",
       "      <th>2010-03-21</th>\n",
       "      <td>18.0</td>\n",
       "      <td>maxTemp</td>\n",
       "    </tr>\n",
       "    <tr>\n",
       "      <th>2010-03-22</th>\n",
       "      <td>22.8</td>\n",
       "      <td>maxTemp</td>\n",
       "    </tr>\n",
       "    <tr>\n",
       "      <th>2010-03-25</th>\n",
       "      <td>7.9</td>\n",
       "      <td>maxTemp</td>\n",
       "    </tr>\n",
       "    <tr>\n",
       "      <th>2010-03-26</th>\n",
       "      <td>2.5</td>\n",
       "      <td>maxTemp</td>\n",
       "    </tr>\n",
       "    <tr>\n",
       "      <th>2010-03-28</th>\n",
       "      <td>10.4</td>\n",
       "      <td>maxTemp</td>\n",
       "    </tr>\n",
       "    <tr>\n",
       "      <th>2011-03-20</th>\n",
       "      <td>17.9</td>\n",
       "      <td>maxTemp</td>\n",
       "    </tr>\n",
       "    <tr>\n",
       "      <th>2011-03-21</th>\n",
       "      <td>18.2</td>\n",
       "      <td>maxTemp</td>\n",
       "    </tr>\n",
       "    <tr>\n",
       "      <th>2011-03-22</th>\n",
       "      <td>22.0</td>\n",
       "      <td>maxTemp</td>\n",
       "    </tr>\n",
       "    <tr>\n",
       "      <th>2011-03-24</th>\n",
       "      <td>15.3</td>\n",
       "      <td>maxTemp</td>\n",
       "    </tr>\n",
       "    <tr>\n",
       "      <th>2011-03-25</th>\n",
       "      <td>19.6</td>\n",
       "      <td>maxTemp</td>\n",
       "    </tr>\n",
       "    <tr>\n",
       "      <th>2011-03-26</th>\n",
       "      <td>7.6</td>\n",
       "      <td>maxTemp</td>\n",
       "    </tr>\n",
       "    <tr>\n",
       "      <th>2011-03-27</th>\n",
       "      <td>10.3</td>\n",
       "      <td>maxTemp</td>\n",
       "    </tr>\n",
       "    <tr>\n",
       "      <th>2011-03-28</th>\n",
       "      <td>18.6</td>\n",
       "      <td>maxTemp</td>\n",
       "    </tr>\n",
       "    <tr>\n",
       "      <th>2011-03-31</th>\n",
       "      <td>1.7</td>\n",
       "      <td>maxTemp</td>\n",
       "    </tr>\n",
       "    <tr>\n",
       "      <th>2012-07-31</th>\n",
       "      <td>5.2</td>\n",
       "      <td>maxTemp</td>\n",
       "    </tr>\n",
       "    <tr>\n",
       "      <th>2015-07-24</th>\n",
       "      <td>1.6</td>\n",
       "      <td>maxTemp</td>\n",
       "    </tr>\n",
       "    <tr>\n",
       "      <th>2016-01-16</th>\n",
       "      <td>3.0</td>\n",
       "      <td>maxTemp</td>\n",
       "    </tr>\n",
       "    <tr>\n",
       "      <th>2016-04-01</th>\n",
       "      <td>3.5</td>\n",
       "      <td>maxTemp</td>\n",
       "    </tr>\n",
       "    <tr>\n",
       "      <th>2017-08-08</th>\n",
       "      <td>2.6</td>\n",
       "      <td>maxTemp</td>\n",
       "    </tr>\n",
       "    <tr>\n",
       "      <th>2018-07-30</th>\n",
       "      <td>1.6</td>\n",
       "      <td>maxTemp</td>\n",
       "    </tr>\n",
       "  </tbody>\n",
       "</table>\n",
       "</div>"
      ],
      "text/plain": [
       "            difference variable\n",
       "date                           \n",
       "2010-03-20  20.5        maxTemp\n",
       "2010-03-21  18.0        maxTemp\n",
       "2010-03-22  22.8        maxTemp\n",
       "2010-03-25  7.9         maxTemp\n",
       "2010-03-26  2.5         maxTemp\n",
       "2010-03-28  10.4        maxTemp\n",
       "2011-03-20  17.9        maxTemp\n",
       "2011-03-21  18.2        maxTemp\n",
       "2011-03-22  22.0        maxTemp\n",
       "2011-03-24  15.3        maxTemp\n",
       "2011-03-25  19.6        maxTemp\n",
       "2011-03-26  7.6         maxTemp\n",
       "2011-03-27  10.3        maxTemp\n",
       "2011-03-28  18.6        maxTemp\n",
       "2011-03-31  1.7         maxTemp\n",
       "2012-07-31  5.2         maxTemp\n",
       "2015-07-24  1.6         maxTemp\n",
       "2016-01-16  3.0         maxTemp\n",
       "2016-04-01  3.5         maxTemp\n",
       "2017-08-08  2.6         maxTemp\n",
       "2018-07-30  1.6         maxTemp"
      ]
     },
     "execution_count": 45,
     "metadata": {},
     "output_type": "execute_result"
    }
   ],
   "source": [
    "extreme_temp_diffs_max = var_diffs_df.query('(variable == \"maxTemp\") & ((difference - difference.mean()) * difference.std() > 2)')\n",
    "extreme_temp_diffs_max"
   ]
  },
  {
   "cell_type": "code",
   "execution_count": 46,
   "metadata": {},
   "outputs": [
    {
     "data": {
      "image/png": "[encoded data removed]",
      "text/plain": [
       "<Figure size 432x288 with 1 Axes>"
      ]
     },
     "metadata": {},
     "output_type": "display_data"
    }
   ],
   "source": [
    "extreme_temp_diffs_max.plot();"
   ]
  },
  {
   "cell_type": "markdown",
   "metadata": {},
   "source": [
    "It looks like extreme differences have been reduced over time and earlier differences in 2010-2011 may have been caused by a faulty sensor which was resolved in 2012. Since 2012, differences in min / max temperature readings between stations has not exceed 5 degrees Celsius and differences in `meanTemp` readings has not exceeded 2 degrees Celsius. With such neglible differences between station readings, there is no good reason for us not to calculate daily temperatures as the average between stations."
   ]
  },
  {
   "cell_type": "markdown",
   "metadata": {
    "hide_input": false,
    "hide_output": false,
    "run_control": {
     "marked": false
    }
   },
   "source": [
    "## Daily Observation Data\n",
    "Since we are not ultimately not interested in measurements from individual weather stations (the purpose of this analysis is to analyze precipitation trends in London Ontario as a whole), and as a result of the above analysis, we can collapse observations from different locations into a single measurement by taking the arithmetic mean of measurements across stations."
   ]
  },
  {
   "cell_type": "code",
   "execution_count": 47,
   "metadata": {},
   "outputs": [
    {
     "data": {
      "text/html": [
       "<div>\n",
       "<style scoped>\n",
       "    .dataframe tbody tr th:only-of-type {\n",
       "        vertical-align: middle;\n",
       "    }\n",
       "\n",
       "    .dataframe tbody tr th {\n",
       "        vertical-align: top;\n",
       "    }\n",
       "\n",
       "    .dataframe thead th {\n",
       "        text-align: right;\n",
       "    }\n",
       "</style>\n",
       "<table border=\"1\" class=\"dataframe\">\n",
       "  <thead>\n",
       "    <tr style=\"text-align: right;\">\n",
       "      <th></th>\n",
       "      <th>totalPrecipMM</th>\n",
       "      <th>minTemp</th>\n",
       "      <th>maxTemp</th>\n",
       "      <th>meanTemp</th>\n",
       "      <th>totalSnowCM</th>\n",
       "    </tr>\n",
       "    <tr>\n",
       "      <th>date</th>\n",
       "      <th></th>\n",
       "      <th></th>\n",
       "      <th></th>\n",
       "      <th></th>\n",
       "      <th></th>\n",
       "    </tr>\n",
       "  </thead>\n",
       "  <tbody>\n",
       "    <tr>\n",
       "      <th>2010-01-01</th>\n",
       "      <td>4.9</td>\n",
       "      <td>-9.2</td>\n",
       "      <td>0.0</td>\n",
       "      <td>-4.6</td>\n",
       "      <td>15.0</td>\n",
       "    </tr>\n",
       "    <tr>\n",
       "      <th>2010-01-02</th>\n",
       "      <td>4.1</td>\n",
       "      <td>-14.1</td>\n",
       "      <td>-9.2</td>\n",
       "      <td>-11.7</td>\n",
       "      <td>6.0</td>\n",
       "    </tr>\n",
       "    <tr>\n",
       "      <th>2010-01-03</th>\n",
       "      <td>1.1</td>\n",
       "      <td>-12.6</td>\n",
       "      <td>-5.6</td>\n",
       "      <td>-9.1</td>\n",
       "      <td>1.0</td>\n",
       "    </tr>\n",
       "    <tr>\n",
       "      <th>2010-01-04</th>\n",
       "      <td>0.5</td>\n",
       "      <td>-11.2</td>\n",
       "      <td>-7.5</td>\n",
       "      <td>-9.4</td>\n",
       "      <td>1.0</td>\n",
       "    </tr>\n",
       "    <tr>\n",
       "      <th>2010-01-05</th>\n",
       "      <td>0.0</td>\n",
       "      <td>-8.9</td>\n",
       "      <td>-3.5</td>\n",
       "      <td>-6.2</td>\n",
       "      <td>NaN</td>\n",
       "    </tr>\n",
       "  </tbody>\n",
       "</table>\n",
       "</div>"
      ],
      "text/plain": [
       "            totalPrecipMM  minTemp  maxTemp  meanTemp  totalSnowCM\n",
       "date                                                              \n",
       "2010-01-01  4.9           -9.2      0.0     -4.6       15.0       \n",
       "2010-01-02  4.1           -14.1    -9.2     -11.7      6.0        \n",
       "2010-01-03  1.1           -12.6    -5.6     -9.1       1.0        \n",
       "2010-01-04  0.5           -11.2    -7.5     -9.4       1.0        \n",
       "2010-01-05  0.0           -8.9     -3.5     -6.2      NaN         "
      ]
     },
     "execution_count": 47,
     "metadata": {},
     "output_type": "execute_result"
    }
   ],
   "source": [
    "daily_df = df[['date','totalPrecipMM', 'minTemp', 'maxTemp', 'meanTemp', 'totalSnowCM']].set_index('date').resample('1D').mean()\n",
    "daily_df.head()"
   ]
  },
  {
   "cell_type": "code",
   "execution_count": 48,
   "metadata": {},
   "outputs": [
    {
     "name": "stdout",
     "output_type": "stream",
     "text": [
      "2010-01-01 to 2019-05-09\n"
     ]
    }
   ],
   "source": [
    "print(\"{} to {}\".format(daily_df.index.min().date(), daily_df.index.max().date()))"
   ]
  },
  {
   "cell_type": "markdown",
   "metadata": {},
   "source": [
    "### Seasons\n",
    "Adding a seasonal indicator will allow us to visualize seasonal weather effects (if any).  Seasonal bounds for the Northern hemisphere are used to label each observation below\n",
    "> [...] for temperate areas in the northern hemisphere, spring begins on 1 March, summer on 1 June, autumn on 1 September, and winter on 1 December. [9]"
   ]
  },
  {
   "cell_type": "code",
   "execution_count": 49,
   "metadata": {},
   "outputs": [],
   "source": [
    "# Seasons\n",
    "def season(date):\n",
    "  if date.month == 12 or date.month < 3:\n",
    "    # December - Feb\n",
    "    return 'winter'\n",
    "  elif date.month >= 3 and date.month < 6:\n",
    "    # March - June\n",
    "    return 'spring'\n",
    "  elif date.month >= 6 and date.month < 9:\n",
    "    # June - Sept\n",
    "    return 'summer'\n",
    "  else:\n",
    "    # Sept - Nov\n",
    "    return 'fall'"
   ]
  },
  {
   "cell_type": "code",
   "execution_count": 50,
   "metadata": {},
   "outputs": [],
   "source": [
    "daily_df['season'] = pd.Series(daily_df.index).apply(season).values"
   ]
  },
  {
   "cell_type": "markdown",
   "metadata": {},
   "source": [
    "### Dates\n",
    "Add date components as separate columns so we can aggregate the data more easily"
   ]
  },
  {
   "cell_type": "code",
   "execution_count": 51,
   "metadata": {},
   "outputs": [
    {
     "data": {
      "text/html": [
       "<div>\n",
       "<style scoped>\n",
       "    .dataframe tbody tr th:only-of-type {\n",
       "        vertical-align: middle;\n",
       "    }\n",
       "\n",
       "    .dataframe tbody tr th {\n",
       "        vertical-align: top;\n",
       "    }\n",
       "\n",
       "    .dataframe thead th {\n",
       "        text-align: right;\n",
       "    }\n",
       "</style>\n",
       "<table border=\"1\" class=\"dataframe\">\n",
       "  <thead>\n",
       "    <tr style=\"text-align: right;\">\n",
       "      <th></th>\n",
       "      <th>totalPrecipMM</th>\n",
       "      <th>minTemp</th>\n",
       "      <th>maxTemp</th>\n",
       "      <th>meanTemp</th>\n",
       "      <th>totalSnowCM</th>\n",
       "      <th>season</th>\n",
       "      <th>year</th>\n",
       "      <th>month</th>\n",
       "    </tr>\n",
       "    <tr>\n",
       "      <th>date</th>\n",
       "      <th></th>\n",
       "      <th></th>\n",
       "      <th></th>\n",
       "      <th></th>\n",
       "      <th></th>\n",
       "      <th></th>\n",
       "      <th></th>\n",
       "      <th></th>\n",
       "    </tr>\n",
       "  </thead>\n",
       "  <tbody>\n",
       "    <tr>\n",
       "      <th>2010-01-01</th>\n",
       "      <td>4.9</td>\n",
       "      <td>-9.2</td>\n",
       "      <td>0.0</td>\n",
       "      <td>-4.6</td>\n",
       "      <td>15.0</td>\n",
       "      <td>winter</td>\n",
       "      <td>2010</td>\n",
       "      <td>1</td>\n",
       "    </tr>\n",
       "    <tr>\n",
       "      <th>2010-01-02</th>\n",
       "      <td>4.1</td>\n",
       "      <td>-14.1</td>\n",
       "      <td>-9.2</td>\n",
       "      <td>-11.7</td>\n",
       "      <td>6.0</td>\n",
       "      <td>winter</td>\n",
       "      <td>2010</td>\n",
       "      <td>1</td>\n",
       "    </tr>\n",
       "    <tr>\n",
       "      <th>2010-01-03</th>\n",
       "      <td>1.1</td>\n",
       "      <td>-12.6</td>\n",
       "      <td>-5.6</td>\n",
       "      <td>-9.1</td>\n",
       "      <td>1.0</td>\n",
       "      <td>winter</td>\n",
       "      <td>2010</td>\n",
       "      <td>1</td>\n",
       "    </tr>\n",
       "    <tr>\n",
       "      <th>2010-01-04</th>\n",
       "      <td>0.5</td>\n",
       "      <td>-11.2</td>\n",
       "      <td>-7.5</td>\n",
       "      <td>-9.4</td>\n",
       "      <td>1.0</td>\n",
       "      <td>winter</td>\n",
       "      <td>2010</td>\n",
       "      <td>1</td>\n",
       "    </tr>\n",
       "    <tr>\n",
       "      <th>2010-01-05</th>\n",
       "      <td>0.0</td>\n",
       "      <td>-8.9</td>\n",
       "      <td>-3.5</td>\n",
       "      <td>-6.2</td>\n",
       "      <td>NaN</td>\n",
       "      <td>winter</td>\n",
       "      <td>2010</td>\n",
       "      <td>1</td>\n",
       "    </tr>\n",
       "  </tbody>\n",
       "</table>\n",
       "</div>"
      ],
      "text/plain": [
       "            totalPrecipMM  minTemp  maxTemp  meanTemp  totalSnowCM  season  \\\n",
       "date                                                                         \n",
       "2010-01-01  4.9           -9.2      0.0     -4.6       15.0         winter   \n",
       "2010-01-02  4.1           -14.1    -9.2     -11.7      6.0          winter   \n",
       "2010-01-03  1.1           -12.6    -5.6     -9.1       1.0          winter   \n",
       "2010-01-04  0.5           -11.2    -7.5     -9.4       1.0          winter   \n",
       "2010-01-05  0.0           -8.9     -3.5     -6.2      NaN           winter   \n",
       "\n",
       "            year  month  \n",
       "date                     \n",
       "2010-01-01  2010  1      \n",
       "2010-01-02  2010  1      \n",
       "2010-01-03  2010  1      \n",
       "2010-01-04  2010  1      \n",
       "2010-01-05  2010  1      "
      ]
     },
     "execution_count": 51,
     "metadata": {},
     "output_type": "execute_result"
    }
   ],
   "source": [
    "daily_df['year'] = pd.Series(daily_df.index).apply(lambda x: x.year).values\n",
    "daily_df['month'] = pd.Series(daily_df.index).apply(lambda x: x.month).values\n",
    "daily_df.head()"
   ]
  },
  {
   "cell_type": "markdown",
   "metadata": {},
   "source": [
    "Save the data to CSV"
   ]
  },
  {
   "cell_type": "code",
   "execution_count": 52,
   "metadata": {
    "hide_input": false,
    "hide_output": false,
    "run_control": {
     "marked": false
    }
   },
   "outputs": [
    {
     "name": "stdout",
     "output_type": "stream",
     "text": [
      "../data/notebook1_weather_by_day_2019-05-09.csv\n",
      "<class 'pandas.core.frame.DataFrame'>\n",
      "RangeIndex: 3416 entries, 0 to 3415\n",
      "Data columns (total 9 columns):\n",
      "date             3416 non-null object\n",
      "totalPrecipMM    3370 non-null float64\n",
      "minTemp          3416 non-null float64\n",
      "maxTemp          3415 non-null float64\n",
      "meanTemp         3415 non-null float64\n",
      "totalSnowCM      1109 non-null float64\n",
      "season           3416 non-null object\n",
      "year             3416 non-null int64\n",
      "month            3416 non-null int64\n",
      "dtypes: float64(5), int64(2), object(2)\n",
      "memory usage: 240.3+ KB\n",
      "None\n"
     ]
    },
    {
     "data": {
      "text/html": [
       "<div>\n",
       "<style scoped>\n",
       "    .dataframe tbody tr th:only-of-type {\n",
       "        vertical-align: middle;\n",
       "    }\n",
       "\n",
       "    .dataframe tbody tr th {\n",
       "        vertical-align: top;\n",
       "    }\n",
       "\n",
       "    .dataframe thead th {\n",
       "        text-align: right;\n",
       "    }\n",
       "</style>\n",
       "<table border=\"1\" class=\"dataframe\">\n",
       "  <thead>\n",
       "    <tr style=\"text-align: right;\">\n",
       "      <th></th>\n",
       "      <th>date</th>\n",
       "      <th>totalPrecipMM</th>\n",
       "      <th>minTemp</th>\n",
       "      <th>maxTemp</th>\n",
       "      <th>meanTemp</th>\n",
       "      <th>totalSnowCM</th>\n",
       "      <th>season</th>\n",
       "      <th>year</th>\n",
       "      <th>month</th>\n",
       "    </tr>\n",
       "  </thead>\n",
       "  <tbody>\n",
       "    <tr>\n",
       "      <th>0</th>\n",
       "      <td>2010-01-01</td>\n",
       "      <td>4.9</td>\n",
       "      <td>-9.2</td>\n",
       "      <td>0.0</td>\n",
       "      <td>-4.6</td>\n",
       "      <td>15.0</td>\n",
       "      <td>winter</td>\n",
       "      <td>2010</td>\n",
       "      <td>1</td>\n",
       "    </tr>\n",
       "    <tr>\n",
       "      <th>1</th>\n",
       "      <td>2010-01-02</td>\n",
       "      <td>4.1</td>\n",
       "      <td>-14.1</td>\n",
       "      <td>-9.2</td>\n",
       "      <td>-11.7</td>\n",
       "      <td>6.0</td>\n",
       "      <td>winter</td>\n",
       "      <td>2010</td>\n",
       "      <td>1</td>\n",
       "    </tr>\n",
       "    <tr>\n",
       "      <th>2</th>\n",
       "      <td>2010-01-03</td>\n",
       "      <td>1.1</td>\n",
       "      <td>-12.6</td>\n",
       "      <td>-5.6</td>\n",
       "      <td>-9.1</td>\n",
       "      <td>1.0</td>\n",
       "      <td>winter</td>\n",
       "      <td>2010</td>\n",
       "      <td>1</td>\n",
       "    </tr>\n",
       "    <tr>\n",
       "      <th>3</th>\n",
       "      <td>2010-01-04</td>\n",
       "      <td>0.5</td>\n",
       "      <td>-11.2</td>\n",
       "      <td>-7.5</td>\n",
       "      <td>-9.4</td>\n",
       "      <td>1.0</td>\n",
       "      <td>winter</td>\n",
       "      <td>2010</td>\n",
       "      <td>1</td>\n",
       "    </tr>\n",
       "    <tr>\n",
       "      <th>4</th>\n",
       "      <td>2010-01-05</td>\n",
       "      <td>0.0</td>\n",
       "      <td>-8.9</td>\n",
       "      <td>-3.5</td>\n",
       "      <td>-6.2</td>\n",
       "      <td>NaN</td>\n",
       "      <td>winter</td>\n",
       "      <td>2010</td>\n",
       "      <td>1</td>\n",
       "    </tr>\n",
       "  </tbody>\n",
       "</table>\n",
       "</div>"
      ],
      "text/plain": [
       "         date  totalPrecipMM  minTemp  maxTemp  meanTemp  totalSnowCM  season  \\\n",
       "0  2010-01-01  4.9           -9.2      0.0     -4.6       15.0         winter   \n",
       "1  2010-01-02  4.1           -14.1    -9.2     -11.7      6.0          winter   \n",
       "2  2010-01-03  1.1           -12.6    -5.6     -9.1       1.0          winter   \n",
       "3  2010-01-04  0.5           -11.2    -7.5     -9.4       1.0          winter   \n",
       "4  2010-01-05  0.0           -8.9     -3.5     -6.2      NaN           winter   \n",
       "\n",
       "   year  month  \n",
       "0  2010  1      \n",
       "1  2010  1      \n",
       "2  2010  1      \n",
       "3  2010  1      \n",
       "4  2010  1      "
      ]
     },
     "execution_count": 52,
     "metadata": {},
     "output_type": "execute_result"
    }
   ],
   "source": [
    "csv_name = \"../data/notebook1_weather_by_day_{}.csv\".format(daily_df.index.max().date())\n",
    "daily_df.to_csv(csv_name, index=True)\n",
    "daily_df = pd.read_csv(csv_name, date_parser=['date'])\n",
    "print(csv_name)\n",
    "print(daily_df.info())\n",
    "daily_df.head()"
   ]
  },
  {
   "cell_type": "markdown",
   "metadata": {},
   "source": [
    "[1] Government of Canada (2019). Past weather and climate [Web application software]. Retrieved February 10, 2019, from http://climate.weather.gc.ca/historical_data/search_historic_data_e.html\n",
    "\n",
    "[2] Wikipedia contributors. (2019, February 7). Weather station. In Wikipedia, The Free Encyclopedia. Retrieved February 10, 2019, from https://en.wikipedia.org/w/index.php?title=Weather_station&oldid=882144937\n",
    "\n",
    "[3] Government of Canada. (2018, July 20). Glossary. Retrieved February 10, 2019, from http://climate.weather.gc.ca/glossary_e.html\n",
    "\n",
    "[4] https://scrapy.org/\n",
    "\n",
    "[5] https://developer.mozilla.org/en-US/docs/Web/XPath\n",
    "\n",
    "[6] https://github.com/calvdee/ldn-ont-precip/tree/master/webcrawler\n",
    "\n",
    "[7] http://journals.tubitak.gov.tr/engineering/issues/muh-00-24-6/muh-24-6-7-9909-13.pdf\n",
    "\n",
    "[8] https://en.wikipedia.org/wiki/Cloud_seeding\n",
    "\n",
    "[9] https://en.wikipedia.org/wiki/Season#Meteorological"
   ]
  }
 ],
 "metadata": {
  "anaconda-cloud": {},
  "kernelspec": {
   "display_name": "Python 3",
   "language": "python",
   "name": "python3"
  },
  "language_info": {
   "codemirror_mode": {
    "name": "ipython",
    "version": 3
   },
   "file_extension": ".py",
   "mimetype": "text/x-python",
   "name": "python",
   "nbconvert_exporter": "python",
   "pygments_lexer": "ipython3",
   "version": "3.7.3"
  }
 },
 "nbformat": 4,
 "nbformat_minor": 2
}
